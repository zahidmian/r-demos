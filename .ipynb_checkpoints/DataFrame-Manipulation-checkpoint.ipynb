{
 "cells": [
  {
   "cell_type": "markdown",
   "metadata": {},
   "source": [
    "**Creating a DataFrame**"
   ]
  },
  {
   "cell_type": "code",
   "execution_count": 1,
   "metadata": {
    "collapsed": false
   },
   "outputs": [
    {
     "data": {
      "text/html": [
       "<table>\n",
       "<thead><tr><th scope=col>EmpID</th><th scope=col>Age</th><th scope=col>Name</th></tr></thead>\n",
       "<tbody>\n",
       "\t<tr><td>1    </td><td>24   </td><td>Adam </td></tr>\n",
       "\t<tr><td>2    </td><td>30   </td><td>Mary </td></tr>\n",
       "\t<tr><td>3    </td><td>50   </td><td>John </td></tr>\n",
       "\t<tr><td>4    </td><td>35   </td><td>David</td></tr>\n",
       "\t<tr><td>5    </td><td>55   </td><td>Sarah</td></tr>\n",
       "</tbody>\n",
       "</table>\n"
      ],
      "text/latex": [
       "\\begin{tabular}{r|lll}\n",
       " EmpID & Age & Name\\\\\n",
       "\\hline\n",
       "\t 1     & 24    & Adam \\\\\n",
       "\t 2     & 30    & Mary \\\\\n",
       "\t 3     & 50    & John \\\\\n",
       "\t 4     & 35    & David\\\\\n",
       "\t 5     & 55    & Sarah\\\\\n",
       "\\end{tabular}\n"
      ],
      "text/markdown": [
       "\n",
       "EmpID | Age | Name | \n",
       "|---|---|---|---|---|\n",
       "| 1     | 24    | Adam  | \n",
       "| 2     | 30    | Mary  | \n",
       "| 3     | 50    | John  | \n",
       "| 4     | 35    | David | \n",
       "| 5     | 55    | Sarah | \n",
       "\n",
       "\n"
      ],
      "text/plain": [
       "  EmpID Age Name \n",
       "1 1     24  Adam \n",
       "2 2     30  Mary \n",
       "3 3     50  John \n",
       "4 4     35  David\n",
       "5 5     55  Sarah"
      ]
     },
     "metadata": {},
     "output_type": "display_data"
    },
    {
     "data": {
      "text/html": [
       "FALSE"
      ],
      "text/latex": [
       "FALSE"
      ],
      "text/markdown": [
       "FALSE"
      ],
      "text/plain": [
       "[1] FALSE"
      ]
     },
     "metadata": {},
     "output_type": "display_data"
    }
   ],
   "source": [
    "df <- data.frame(\n",
    "    \"EmpID\" = 1:5, \"Age\" = c(24, 30, 50, 35, 55), \n",
    "    \"Name\" = c(\"Adam\", \"Mary\", \"John\", \"David\", \"Sarah\"), \n",
    "    stringsAsFactors = F)\n",
    "df\n",
    "is.factor(df$Name)"
   ]
  },
  {
   "cell_type": "markdown",
   "metadata": {},
   "source": [
    "**What does *stringsAsFactors* do?**\n",
    "*Note the class of the Name column*"
   ]
  },
  {
   "cell_type": "code",
   "execution_count": 2,
   "metadata": {
    "collapsed": false
   },
   "outputs": [
    {
     "data": {
      "text/html": [
       "<table>\n",
       "<thead><tr><th scope=col>EmpID</th><th scope=col>Age</th><th scope=col>Name</th></tr></thead>\n",
       "<tbody>\n",
       "\t<tr><td>1    </td><td>64   </td><td>Adam </td></tr>\n",
       "\t<tr><td>2    </td><td>49   </td><td>Mary </td></tr>\n",
       "\t<tr><td>3    </td><td>31   </td><td>John </td></tr>\n",
       "\t<tr><td>4    </td><td>40   </td><td>David</td></tr>\n",
       "\t<tr><td>5    </td><td>63   </td><td>Sarah</td></tr>\n",
       "</tbody>\n",
       "</table>\n"
      ],
      "text/latex": [
       "\\begin{tabular}{r|lll}\n",
       " EmpID & Age & Name\\\\\n",
       "\\hline\n",
       "\t 1     & 64    & Adam \\\\\n",
       "\t 2     & 49    & Mary \\\\\n",
       "\t 3     & 31    & John \\\\\n",
       "\t 4     & 40    & David\\\\\n",
       "\t 5     & 63    & Sarah\\\\\n",
       "\\end{tabular}\n"
      ],
      "text/markdown": [
       "\n",
       "EmpID | Age | Name | \n",
       "|---|---|---|---|---|\n",
       "| 1     | 64    | Adam  | \n",
       "| 2     | 49    | Mary  | \n",
       "| 3     | 31    | John  | \n",
       "| 4     | 40    | David | \n",
       "| 5     | 63    | Sarah | \n",
       "\n",
       "\n"
      ],
      "text/plain": [
       "  EmpID Age Name \n",
       "1 1     64  Adam \n",
       "2 2     49  Mary \n",
       "3 3     31  John \n",
       "4 4     40  David\n",
       "5 5     63  Sarah"
      ]
     },
     "metadata": {},
     "output_type": "display_data"
    },
    {
     "data": {
      "text/html": [
       "<span style=white-space:pre-wrap>'is.factor(t$Name):  TRUE'</span>"
      ],
      "text/latex": [
       "'is.factor(t\\$Name):  TRUE'"
      ],
      "text/markdown": [
       "<span style=white-space:pre-wrap>'is.factor(t$Name):  TRUE'</span>"
      ],
      "text/plain": [
       "[1] \"is.factor(t$Name):  TRUE\""
      ]
     },
     "metadata": {},
     "output_type": "display_data"
    }
   ],
   "source": [
    "t <- data.frame(\"EmpID\" = 1:5, \"Age\" = sample(20:65,5), \"Name\" = c(\"Adam\", \"Mary\", \"John\", \"David\", \"Sarah\"))\n",
    "t\n",
    "paste('is.factor(t$Name): ', is.factor(t$Name))"
   ]
  },
  {
   "cell_type": "code",
   "execution_count": 3,
   "metadata": {
    "collapsed": false
   },
   "outputs": [
    {
     "data": {
      "text/html": [
       "<ol class=list-inline>\n",
       "\t<li>5</li>\n",
       "\t<li>3</li>\n",
       "</ol>\n"
      ],
      "text/latex": [
       "\\begin{enumerate*}\n",
       "\\item 5\n",
       "\\item 3\n",
       "\\end{enumerate*}\n"
      ],
      "text/markdown": [
       "1. 5\n",
       "2. 3\n",
       "\n",
       "\n"
      ],
      "text/plain": [
       "[1] 5 3"
      ]
     },
     "metadata": {},
     "output_type": "display_data"
    },
    {
     "data": {
      "text/html": [
       "<table>\n",
       "<thead><tr><th scope=col>EmpID</th><th scope=col>Age</th><th scope=col>Name</th></tr></thead>\n",
       "<tbody>\n",
       "\t<tr><td>1   </td><td>24  </td><td>Adam</td></tr>\n",
       "\t<tr><td>2   </td><td>30  </td><td>Mary</td></tr>\n",
       "\t<tr><td>3   </td><td>50  </td><td>John</td></tr>\n",
       "</tbody>\n",
       "</table>\n"
      ],
      "text/latex": [
       "\\begin{tabular}{r|lll}\n",
       " EmpID & Age & Name\\\\\n",
       "\\hline\n",
       "\t 1    & 24   & Adam\\\\\n",
       "\t 2    & 30   & Mary\\\\\n",
       "\t 3    & 50   & John\\\\\n",
       "\\end{tabular}\n"
      ],
      "text/markdown": [
       "\n",
       "EmpID | Age | Name | \n",
       "|---|---|---|\n",
       "| 1    | 24   | Adam | \n",
       "| 2    | 30   | Mary | \n",
       "| 3    | 50   | John | \n",
       "\n",
       "\n"
      ],
      "text/plain": [
       "  EmpID Age Name\n",
       "1 1     24  Adam\n",
       "2 2     30  Mary\n",
       "3 3     50  John"
      ]
     },
     "metadata": {},
     "output_type": "display_data"
    },
    {
     "data": {
      "text/html": [
       "<table>\n",
       "<thead><tr><th></th><th scope=col>EmpID</th><th scope=col>Age</th><th scope=col>Name</th></tr></thead>\n",
       "<tbody>\n",
       "\t<tr><th scope=row>3</th><td>3    </td><td>50   </td><td>John </td></tr>\n",
       "\t<tr><th scope=row>4</th><td>4    </td><td>35   </td><td>David</td></tr>\n",
       "\t<tr><th scope=row>5</th><td>5    </td><td>55   </td><td>Sarah</td></tr>\n",
       "</tbody>\n",
       "</table>\n"
      ],
      "text/latex": [
       "\\begin{tabular}{r|lll}\n",
       "  & EmpID & Age & Name\\\\\n",
       "\\hline\n",
       "\t3 & 3     & 50    & John \\\\\n",
       "\t4 & 4     & 35    & David\\\\\n",
       "\t5 & 5     & 55    & Sarah\\\\\n",
       "\\end{tabular}\n"
      ],
      "text/markdown": [
       "\n",
       "| <!--/--> | EmpID | Age | Name | \n",
       "|---|---|---|\n",
       "| 3 | 3     | 50    | John  | \n",
       "| 4 | 4     | 35    | David | \n",
       "| 5 | 5     | 55    | Sarah | \n",
       "\n",
       "\n"
      ],
      "text/plain": [
       "  EmpID Age Name \n",
       "3 3     50  John \n",
       "4 4     35  David\n",
       "5 5     55  Sarah"
      ]
     },
     "metadata": {},
     "output_type": "display_data"
    }
   ],
   "source": [
    "dim(df) # dimensions\n",
    "head(df,3) # show first 3 rows, default is 6 \n",
    "tail(df,3) # show last 3 rows"
   ]
  },
  {
   "cell_type": "markdown",
   "metadata": {
    "collapsed": true
   },
   "source": [
    "**Vector vs. DataFrame**"
   ]
  },
  {
   "cell_type": "code",
   "execution_count": 4,
   "metadata": {
    "collapsed": false
   },
   "outputs": [
    {
     "data": {
      "text/html": [
       "<span style=white-space:pre-wrap>'is.vector(v):  TRUE'</span>"
      ],
      "text/latex": [
       "'is.vector(v):  TRUE'"
      ],
      "text/markdown": [
       "<span style=white-space:pre-wrap>'is.vector(v):  TRUE'</span>"
      ],
      "text/plain": [
       "[1] \"is.vector(v):  TRUE\""
      ]
     },
     "metadata": {},
     "output_type": "display_data"
    },
    {
     "data": {
      "text/html": [
       "<ol class=list-inline>\n",
       "\t<li>1</li>\n",
       "\t<li>2</li>\n",
       "\t<li>3</li>\n",
       "\t<li>4</li>\n",
       "\t<li>5</li>\n",
       "</ol>\n"
      ],
      "text/latex": [
       "\\begin{enumerate*}\n",
       "\\item 1\n",
       "\\item 2\n",
       "\\item 3\n",
       "\\item 4\n",
       "\\item 5\n",
       "\\end{enumerate*}\n"
      ],
      "text/markdown": [
       "1. 1\n",
       "2. 2\n",
       "3. 3\n",
       "4. 4\n",
       "5. 5\n",
       "\n",
       "\n"
      ],
      "text/plain": [
       "[1] 1 2 3 4 5"
      ]
     },
     "metadata": {},
     "output_type": "display_data"
    },
    {
     "data": {
      "text/html": [
       "<ol class=list-inline>\n",
       "\t<li>1</li>\n",
       "\t<li>2</li>\n",
       "\t<li>3</li>\n",
       "\t<li>4</li>\n",
       "\t<li>5</li>\n",
       "</ol>\n"
      ],
      "text/latex": [
       "\\begin{enumerate*}\n",
       "\\item 1\n",
       "\\item 2\n",
       "\\item 3\n",
       "\\item 4\n",
       "\\item 5\n",
       "\\end{enumerate*}\n"
      ],
      "text/markdown": [
       "1. 1\n",
       "2. 2\n",
       "3. 3\n",
       "4. 4\n",
       "5. 5\n",
       "\n",
       "\n"
      ],
      "text/plain": [
       "[1] 1 2 3 4 5"
      ]
     },
     "metadata": {},
     "output_type": "display_data"
    },
    {
     "data": {
      "text/html": [
       "<ol class=list-inline>\n",
       "\t<li>1</li>\n",
       "\t<li>2</li>\n",
       "\t<li>3</li>\n",
       "\t<li>4</li>\n",
       "\t<li>5</li>\n",
       "</ol>\n"
      ],
      "text/latex": [
       "\\begin{enumerate*}\n",
       "\\item 1\n",
       "\\item 2\n",
       "\\item 3\n",
       "\\item 4\n",
       "\\item 5\n",
       "\\end{enumerate*}\n"
      ],
      "text/markdown": [
       "1. 1\n",
       "2. 2\n",
       "3. 3\n",
       "4. 4\n",
       "5. 5\n",
       "\n",
       "\n"
      ],
      "text/plain": [
       "[1] 1 2 3 4 5"
      ]
     },
     "metadata": {},
     "output_type": "display_data"
    },
    {
     "data": {
      "text/html": [
       "<table>\n",
       "<thead><tr><th scope=col>Age</th><th scope=col>Name</th></tr></thead>\n",
       "<tbody>\n",
       "\t<tr><td>24  </td><td>Adam</td></tr>\n",
       "</tbody>\n",
       "</table>\n"
      ],
      "text/latex": [
       "\\begin{tabular}{r|ll}\n",
       " Age & Name\\\\\n",
       "\\hline\n",
       "\t 24   & Adam\\\\\n",
       "\\end{tabular}\n"
      ],
      "text/markdown": [
       "\n",
       "Age | Name | \n",
       "|---|\n",
       "| 24   | Adam | \n",
       "\n",
       "\n"
      ],
      "text/plain": [
       "  Age Name\n",
       "1 24  Adam"
      ]
     },
     "metadata": {},
     "output_type": "display_data"
    },
    {
     "data": {
      "text/html": [
       "<span style=white-space:pre-wrap>'is.data.frame(df[1]):  TRUE'</span>"
      ],
      "text/latex": [
       "'is.data.frame(df{[}1{]}):  TRUE'"
      ],
      "text/markdown": [
       "<span style=white-space:pre-wrap>'is.data.frame(df[1]):  TRUE'</span>"
      ],
      "text/plain": [
       "[1] \"is.data.frame(df[1]):  TRUE\""
      ]
     },
     "metadata": {},
     "output_type": "display_data"
    },
    {
     "data": {
      "text/html": [
       "<span style=white-space:pre-wrap>'is.vector(df[1]):  FALSE'</span>"
      ],
      "text/latex": [
       "'is.vector(df{[}1{]}):  FALSE'"
      ],
      "text/markdown": [
       "<span style=white-space:pre-wrap>'is.vector(df[1]):  FALSE'</span>"
      ],
      "text/plain": [
       "[1] \"is.vector(df[1]):  FALSE\""
      ]
     },
     "metadata": {},
     "output_type": "display_data"
    }
   ],
   "source": [
    "v <- df$EmpID\n",
    "paste('is.vector(v): ', is.vector(v))\n",
    "# the following do the same thing\n",
    "df[,\"EmpID\"]\n",
    "# is.vector(df[,\"EmpID\"])\n",
    "df[[\"EmpID\"]]\n",
    "df[[1]]\n",
    "\n",
    "# this will return a data.frame\n",
    "df[1,2:3, drop =FALSE]\n",
    "paste(\"is.data.frame(df[1]): \", is.data.frame(df[1]))\n",
    "paste(\"is.vector(df[1]): \", is.vector(df[1]))"
   ]
  },
  {
   "cell_type": "code",
   "execution_count": 5,
   "metadata": {
    "collapsed": false
   },
   "outputs": [
    {
     "data": {
      "text/html": [
       "<span style=white-space:pre-wrap>'is.data.frame(c):  TRUE'</span>"
      ],
      "text/latex": [
       "'is.data.frame(c):  TRUE'"
      ],
      "text/markdown": [
       "<span style=white-space:pre-wrap>'is.data.frame(c):  TRUE'</span>"
      ],
      "text/plain": [
       "[1] \"is.data.frame(c):  TRUE\""
      ]
     },
     "metadata": {},
     "output_type": "display_data"
    },
    {
     "data": {
      "text/html": [
       "<table>\n",
       "<thead><tr><th scope=col>EmpID</th><th scope=col>Age</th></tr></thead>\n",
       "<tbody>\n",
       "\t<tr><td>1 </td><td>24</td></tr>\n",
       "\t<tr><td>2 </td><td>30</td></tr>\n",
       "\t<tr><td>3 </td><td>50</td></tr>\n",
       "\t<tr><td>4 </td><td>35</td></tr>\n",
       "\t<tr><td>5 </td><td>55</td></tr>\n",
       "</tbody>\n",
       "</table>\n"
      ],
      "text/latex": [
       "\\begin{tabular}{r|ll}\n",
       " EmpID & Age\\\\\n",
       "\\hline\n",
       "\t 1  & 24\\\\\n",
       "\t 2  & 30\\\\\n",
       "\t 3  & 50\\\\\n",
       "\t 4  & 35\\\\\n",
       "\t 5  & 55\\\\\n",
       "\\end{tabular}\n"
      ],
      "text/markdown": [
       "\n",
       "EmpID | Age | \n",
       "|---|---|---|---|---|\n",
       "| 1  | 24 | \n",
       "| 2  | 30 | \n",
       "| 3  | 50 | \n",
       "| 4  | 35 | \n",
       "| 5  | 55 | \n",
       "\n",
       "\n"
      ],
      "text/plain": [
       "  EmpID Age\n",
       "1 1     24 \n",
       "2 2     30 \n",
       "3 3     50 \n",
       "4 4     35 \n",
       "5 5     55 "
      ]
     },
     "metadata": {},
     "output_type": "display_data"
    }
   ],
   "source": [
    "c <- df[c(\"EmpID\", \"Age\")] # all rows, two columns\n",
    "paste('is.data.frame(c): ', is.data.frame(c))\n",
    "c\n",
    "# next two statements are similar\n",
    "# df[c(1,2)]\n",
    "# df[1:2]"
   ]
  },
  {
   "cell_type": "code",
   "execution_count": 6,
   "metadata": {
    "collapsed": false
   },
   "outputs": [
    {
     "data": {
      "text/html": [
       "<table>\n",
       "<thead><tr><th scope=col>EmpID</th><th scope=col>Age</th><th scope=col>Name</th></tr></thead>\n",
       "<tbody>\n",
       "\t<tr><td>1   </td><td>24  </td><td>Adam</td></tr>\n",
       "</tbody>\n",
       "</table>\n"
      ],
      "text/latex": [
       "\\begin{tabular}{r|lll}\n",
       " EmpID & Age & Name\\\\\n",
       "\\hline\n",
       "\t 1    & 24   & Adam\\\\\n",
       "\\end{tabular}\n"
      ],
      "text/markdown": [
       "\n",
       "EmpID | Age | Name | \n",
       "|---|\n",
       "| 1    | 24   | Adam | \n",
       "\n",
       "\n"
      ],
      "text/plain": [
       "  EmpID Age Name\n",
       "1 1     24  Adam"
      ]
     },
     "metadata": {},
     "output_type": "display_data"
    },
    {
     "data": {
      "text/html": [
       "<table>\n",
       "<thead><tr><th></th><th scope=col>EmpID</th><th scope=col>Age</th><th scope=col>Name</th></tr></thead>\n",
       "<tbody>\n",
       "\t<tr><th scope=row>2</th><td>2    </td><td>30   </td><td>Mary </td></tr>\n",
       "\t<tr><th scope=row>3</th><td>3    </td><td>50   </td><td>John </td></tr>\n",
       "\t<tr><th scope=row>4</th><td>4    </td><td>35   </td><td>David</td></tr>\n",
       "</tbody>\n",
       "</table>\n"
      ],
      "text/latex": [
       "\\begin{tabular}{r|lll}\n",
       "  & EmpID & Age & Name\\\\\n",
       "\\hline\n",
       "\t2 & 2     & 30    & Mary \\\\\n",
       "\t3 & 3     & 50    & John \\\\\n",
       "\t4 & 4     & 35    & David\\\\\n",
       "\\end{tabular}\n"
      ],
      "text/markdown": [
       "\n",
       "| <!--/--> | EmpID | Age | Name | \n",
       "|---|---|---|\n",
       "| 2 | 2     | 30    | Mary  | \n",
       "| 3 | 3     | 50    | John  | \n",
       "| 4 | 4     | 35    | David | \n",
       "\n",
       "\n"
      ],
      "text/plain": [
       "  EmpID Age Name \n",
       "2 2     30  Mary \n",
       "3 3     50  John \n",
       "4 4     35  David"
      ]
     },
     "metadata": {},
     "output_type": "display_data"
    },
    {
     "data": {
      "text/html": [
       "<span style=white-space:pre-wrap>'is.data.frame(df[2:4,]):  TRUE'</span>"
      ],
      "text/latex": [
       "'is.data.frame(df{[}2:4,{]}):  TRUE'"
      ],
      "text/markdown": [
       "<span style=white-space:pre-wrap>'is.data.frame(df[2:4,]):  TRUE'</span>"
      ],
      "text/plain": [
       "[1] \"is.data.frame(df[2:4,]):  TRUE\""
      ]
     },
     "metadata": {},
     "output_type": "display_data"
    }
   ],
   "source": [
    "# more slicing with index references\n",
    "# df[rows, columns]\n",
    "df[1:1,] # first row, all columns \n",
    "df[2:4,] # rows 2 through 4, all columns\n",
    "paste('is.data.frame(df[2:4,]): ', is.data.frame(df[2:4,]))"
   ]
  },
  {
   "cell_type": "code",
   "execution_count": 7,
   "metadata": {
    "collapsed": false
   },
   "outputs": [
    {
     "data": {
      "text/html": [
       "<table>\n",
       "<thead><tr><th></th><th scope=col>EmpID</th><th scope=col>Age</th><th scope=col>Name</th></tr></thead>\n",
       "<tbody>\n",
       "\t<tr><th scope=row>1</th><td>1    </td><td>24   </td><td>Adam </td></tr>\n",
       "\t<tr><th scope=row>4</th><td>4    </td><td>35   </td><td>David</td></tr>\n",
       "</tbody>\n",
       "</table>\n"
      ],
      "text/latex": [
       "\\begin{tabular}{r|lll}\n",
       "  & EmpID & Age & Name\\\\\n",
       "\\hline\n",
       "\t1 & 1     & 24    & Adam \\\\\n",
       "\t4 & 4     & 35    & David\\\\\n",
       "\\end{tabular}\n"
      ],
      "text/markdown": [
       "\n",
       "| <!--/--> | EmpID | Age | Name | \n",
       "|---|---|\n",
       "| 1 | 1     | 24    | Adam  | \n",
       "| 4 | 4     | 35    | David | \n",
       "\n",
       "\n"
      ],
      "text/plain": [
       "  EmpID Age Name \n",
       "1 1     24  Adam \n",
       "4 4     35  David"
      ]
     },
     "metadata": {},
     "output_type": "display_data"
    },
    {
     "data": {
      "text/html": [
       "<table>\n",
       "<thead><tr><th></th><th scope=col>EmpID</th><th scope=col>Age</th><th scope=col>Name</th></tr></thead>\n",
       "<tbody>\n",
       "\t<tr><th scope=row>1</th><td>1    </td><td>24   </td><td>Adam </td></tr>\n",
       "\t<tr><th scope=row>4</th><td>4    </td><td>35   </td><td>David</td></tr>\n",
       "</tbody>\n",
       "</table>\n"
      ],
      "text/latex": [
       "\\begin{tabular}{r|lll}\n",
       "  & EmpID & Age & Name\\\\\n",
       "\\hline\n",
       "\t1 & 1     & 24    & Adam \\\\\n",
       "\t4 & 4     & 35    & David\\\\\n",
       "\\end{tabular}\n"
      ],
      "text/markdown": [
       "\n",
       "| <!--/--> | EmpID | Age | Name | \n",
       "|---|---|\n",
       "| 1 | 1     | 24    | Adam  | \n",
       "| 4 | 4     | 35    | David | \n",
       "\n",
       "\n"
      ],
      "text/plain": [
       "  EmpID Age Name \n",
       "1 1     24  Adam \n",
       "4 4     35  David"
      ]
     },
     "metadata": {},
     "output_type": "display_data"
    },
    {
     "data": {
      "text/html": [
       "<table>\n",
       "<thead><tr><th></th><th scope=col>EmpID</th><th scope=col>Name</th></tr></thead>\n",
       "<tbody>\n",
       "\t<tr><th scope=row>1</th><td>1    </td><td>Adam </td></tr>\n",
       "\t<tr><th scope=row>4</th><td>4    </td><td>David</td></tr>\n",
       "</tbody>\n",
       "</table>\n"
      ],
      "text/latex": [
       "\\begin{tabular}{r|ll}\n",
       "  & EmpID & Name\\\\\n",
       "\\hline\n",
       "\t1 & 1     & Adam \\\\\n",
       "\t4 & 4     & David\\\\\n",
       "\\end{tabular}\n"
      ],
      "text/markdown": [
       "\n",
       "| <!--/--> | EmpID | Name | \n",
       "|---|---|\n",
       "| 1 | 1     | Adam  | \n",
       "| 4 | 4     | David | \n",
       "\n",
       "\n"
      ],
      "text/plain": [
       "  EmpID Name \n",
       "1 1     Adam \n",
       "4 4     David"
      ]
     },
     "metadata": {},
     "output_type": "display_data"
    }
   ],
   "source": [
    "df[c(1,4),] # rows 1 and 4, all columns\n",
    "df[c(1,4), 1:3] # rows 1 and 4, columns 1 through 3\n",
    "df[c(1,4), c(1,3)] # rows 1 and 4, columns 1 and 2\n"
   ]
  },
  {
   "cell_type": "code",
   "execution_count": 8,
   "metadata": {
    "collapsed": false
   },
   "outputs": [
    {
     "data": {
      "text/html": [
       "<table>\n",
       "<thead><tr><th scope=col>Age</th><th scope=col>Name</th></tr></thead>\n",
       "<tbody>\n",
       "\t<tr><td>24   </td><td>Adam </td></tr>\n",
       "\t<tr><td>30   </td><td>Mary </td></tr>\n",
       "\t<tr><td>50   </td><td>John </td></tr>\n",
       "\t<tr><td>35   </td><td>David</td></tr>\n",
       "\t<tr><td>55   </td><td>Sarah</td></tr>\n",
       "</tbody>\n",
       "</table>\n"
      ],
      "text/latex": [
       "\\begin{tabular}{r|ll}\n",
       " Age & Name\\\\\n",
       "\\hline\n",
       "\t 24    & Adam \\\\\n",
       "\t 30    & Mary \\\\\n",
       "\t 50    & John \\\\\n",
       "\t 35    & David\\\\\n",
       "\t 55    & Sarah\\\\\n",
       "\\end{tabular}\n"
      ],
      "text/markdown": [
       "\n",
       "Age | Name | \n",
       "|---|---|---|---|---|\n",
       "| 24    | Adam  | \n",
       "| 30    | Mary  | \n",
       "| 50    | John  | \n",
       "| 35    | David | \n",
       "| 55    | Sarah | \n",
       "\n",
       "\n"
      ],
      "text/plain": [
       "  Age Name \n",
       "1 24  Adam \n",
       "2 30  Mary \n",
       "3 50  John \n",
       "4 35  David\n",
       "5 55  Sarah"
      ]
     },
     "metadata": {},
     "output_type": "display_data"
    }
   ],
   "source": [
    "df[-c(1)] # all but the first column"
   ]
  },
  {
   "cell_type": "markdown",
   "metadata": {},
   "source": [
    "** rownames **"
   ]
  },
  {
   "cell_type": "code",
   "execution_count": 9,
   "metadata": {
    "collapsed": false
   },
   "outputs": [
    {
     "data": {
      "text/html": [
       "<table>\n",
       "<thead><tr><th></th><th scope=col>EmpID</th><th scope=col>Age</th><th scope=col>Name</th></tr></thead>\n",
       "<tbody>\n",
       "\t<tr><th scope=row>1st</th><td>1    </td><td>24   </td><td>Adam </td></tr>\n",
       "\t<tr><th scope=row>2nd</th><td>2    </td><td>30   </td><td>Mary </td></tr>\n",
       "\t<tr><th scope=row>3rd</th><td>3    </td><td>50   </td><td>John </td></tr>\n",
       "\t<tr><th scope=row>4th</th><td>4    </td><td>35   </td><td>David</td></tr>\n",
       "\t<tr><th scope=row>5th</th><td>5    </td><td>55   </td><td>Sarah</td></tr>\n",
       "</tbody>\n",
       "</table>\n"
      ],
      "text/latex": [
       "\\begin{tabular}{r|lll}\n",
       "  & EmpID & Age & Name\\\\\n",
       "\\hline\n",
       "\t1st & 1     & 24    & Adam \\\\\n",
       "\t2nd & 2     & 30    & Mary \\\\\n",
       "\t3rd & 3     & 50    & John \\\\\n",
       "\t4th & 4     & 35    & David\\\\\n",
       "\t5th & 5     & 55    & Sarah\\\\\n",
       "\\end{tabular}\n"
      ],
      "text/markdown": [
       "\n",
       "| <!--/--> | EmpID | Age | Name | \n",
       "|---|---|---|---|---|\n",
       "| 1st | 1     | 24    | Adam  | \n",
       "| 2nd | 2     | 30    | Mary  | \n",
       "| 3rd | 3     | 50    | John  | \n",
       "| 4th | 4     | 35    | David | \n",
       "| 5th | 5     | 55    | Sarah | \n",
       "\n",
       "\n"
      ],
      "text/plain": [
       "    EmpID Age Name \n",
       "1st 1     24  Adam \n",
       "2nd 2     30  Mary \n",
       "3rd 3     50  John \n",
       "4th 4     35  David\n",
       "5th 5     55  Sarah"
      ]
     },
     "metadata": {},
     "output_type": "display_data"
    },
    {
     "data": {
      "text/html": [
       "<table>\n",
       "<thead><tr><th></th><th scope=col>EmpID</th><th scope=col>Age</th><th scope=col>Name</th></tr></thead>\n",
       "<tbody>\n",
       "\t<tr><th scope=row>1st</th><td>1   </td><td>24  </td><td>Adam</td></tr>\n",
       "</tbody>\n",
       "</table>\n"
      ],
      "text/latex": [
       "\\begin{tabular}{r|lll}\n",
       "  & EmpID & Age & Name\\\\\n",
       "\\hline\n",
       "\t1st & 1    & 24   & Adam\\\\\n",
       "\\end{tabular}\n"
      ],
      "text/markdown": [
       "\n",
       "| <!--/--> | EmpID | Age | Name | \n",
       "|---|\n",
       "| 1st | 1    | 24   | Adam | \n",
       "\n",
       "\n"
      ],
      "text/plain": [
       "    EmpID Age Name\n",
       "1st 1     24  Adam"
      ]
     },
     "metadata": {},
     "output_type": "display_data"
    }
   ],
   "source": [
    "#assign rownames to df\n",
    "rownames(df) <- c(\"1st\", \"2nd\", \"3rd\", \"4th\", \"5th\") \n",
    "df\n",
    "df[\"1st\",] # get first row"
   ]
  },
  {
   "cell_type": "markdown",
   "metadata": {},
   "source": [
    "** logical indexing **"
   ]
  },
  {
   "cell_type": "code",
   "execution_count": 10,
   "metadata": {
    "collapsed": false
   },
   "outputs": [
    {
     "data": {
      "text/html": [
       "<ol class=list-inline>\n",
       "\t<li>FALSE</li>\n",
       "\t<li>FALSE</li>\n",
       "\t<li>TRUE</li>\n",
       "\t<li>TRUE</li>\n",
       "\t<li>TRUE</li>\n",
       "</ol>\n"
      ],
      "text/latex": [
       "\\begin{enumerate*}\n",
       "\\item FALSE\n",
       "\\item FALSE\n",
       "\\item TRUE\n",
       "\\item TRUE\n",
       "\\item TRUE\n",
       "\\end{enumerate*}\n"
      ],
      "text/markdown": [
       "1. FALSE\n",
       "2. FALSE\n",
       "3. TRUE\n",
       "4. TRUE\n",
       "5. TRUE\n",
       "\n",
       "\n"
      ],
      "text/plain": [
       "[1] FALSE FALSE  TRUE  TRUE  TRUE"
      ]
     },
     "metadata": {},
     "output_type": "display_data"
    },
    {
     "data": {
      "text/html": [
       "<table>\n",
       "<thead><tr><th></th><th scope=col>EmpID</th><th scope=col>Age</th><th scope=col>Name</th></tr></thead>\n",
       "<tbody>\n",
       "\t<tr><th scope=row>3rd</th><td>3    </td><td>50   </td><td>John </td></tr>\n",
       "\t<tr><th scope=row>4th</th><td>4    </td><td>35   </td><td>David</td></tr>\n",
       "\t<tr><th scope=row>5th</th><td>5    </td><td>55   </td><td>Sarah</td></tr>\n",
       "</tbody>\n",
       "</table>\n"
      ],
      "text/latex": [
       "\\begin{tabular}{r|lll}\n",
       "  & EmpID & Age & Name\\\\\n",
       "\\hline\n",
       "\t3rd & 3     & 50    & John \\\\\n",
       "\t4th & 4     & 35    & David\\\\\n",
       "\t5th & 5     & 55    & Sarah\\\\\n",
       "\\end{tabular}\n"
      ],
      "text/markdown": [
       "\n",
       "| <!--/--> | EmpID | Age | Name | \n",
       "|---|---|---|\n",
       "| 3rd | 3     | 50    | John  | \n",
       "| 4th | 4     | 35    | David | \n",
       "| 5th | 5     | 55    | Sarah | \n",
       "\n",
       "\n"
      ],
      "text/plain": [
       "    EmpID Age Name \n",
       "3rd 3     50  John \n",
       "4th 4     35  David\n",
       "5th 5     55  Sarah"
      ]
     },
     "metadata": {},
     "output_type": "display_data"
    }
   ],
   "source": [
    "l <- df$Age>30 # logical indexing\n",
    "l # will show TRUE or FALSE for each row \n",
    "df[l,] # get rows that are TRUE"
   ]
  },
  {
   "cell_type": "code",
   "execution_count": 11,
   "metadata": {
    "collapsed": false
   },
   "outputs": [
    {
     "data": {
      "text/html": [
       "<ol class=list-inline>\n",
       "\t<li>50</li>\n",
       "\t<li>35</li>\n",
       "\t<li>55</li>\n",
       "</ol>\n"
      ],
      "text/latex": [
       "\\begin{enumerate*}\n",
       "\\item 50\n",
       "\\item 35\n",
       "\\item 55\n",
       "\\end{enumerate*}\n"
      ],
      "text/markdown": [
       "1. 50\n",
       "2. 35\n",
       "3. 55\n",
       "\n",
       "\n"
      ],
      "text/plain": [
       "[1] 50 35 55"
      ]
     },
     "metadata": {},
     "output_type": "display_data"
    },
    {
     "data": {
      "text/html": [
       "<ol class=list-inline>\n",
       "\t<li>50</li>\n",
       "\t<li>35</li>\n",
       "\t<li>55</li>\n",
       "</ol>\n"
      ],
      "text/latex": [
       "\\begin{enumerate*}\n",
       "\\item 50\n",
       "\\item 35\n",
       "\\item 55\n",
       "\\end{enumerate*}\n"
      ],
      "text/markdown": [
       "1. 50\n",
       "2. 35\n",
       "3. 55\n",
       "\n",
       "\n"
      ],
      "text/plain": [
       "[1] 50 35 55"
      ]
     },
     "metadata": {},
     "output_type": "display_data"
    }
   ],
   "source": [
    "df[l,]$Age # get Age values that match criteria\n",
    "df[l,2] # same as above"
   ]
  },
  {
   "cell_type": "markdown",
   "metadata": {},
   "source": [
    "** Append or Delete Column(s) **"
   ]
  },
  {
   "cell_type": "code",
   "execution_count": 12,
   "metadata": {
    "collapsed": false
   },
   "outputs": [
    {
     "name": "stdout",
     "output_type": "stream",
     "text": [
      "'data.frame':\t5 obs. of  3 variables:\n",
      " $ EmpID: int  1 2 3 4 5\n",
      " $ Age  : num  24 30 50 35 55\n",
      " $ Name : chr  \"Adam\" \"Mary\" \"John\" \"David\" ...\n",
      "'data.frame':\t5 obs. of  4 variables:\n",
      " $ EmpID: int  1 2 3 4 5\n",
      " $ Age  : num  24 30 50 35 55\n",
      " $ Name : chr  \"Adam\" \"Mary\" \"John\" \"David\" ...\n",
      " $ Title: chr  \"Mr\" \"Ms\" \"Mr\" \"Mr\" ...\n"
     ]
    }
   ],
   "source": [
    "# all these statements will create or overwrite Title column\n",
    "str(df)\n",
    "df$Title <- c(\"Mr\", \"Ms\", \"Mr\", \"Mr\", \"Mrs\")\n",
    "df[[\"Title\"]] <- c(\"Mr\", \"Ms\", \"Mr\", \"Mr\", \"Mrs\")\n",
    "df[,\"Title\"] <- c(\"Mr\", \"Ms\", \"Mr\", \"Mr\", \"Mrs\")\n",
    "# df$Title <- \"?\" # default value\n",
    "str(df)"
   ]
  },
  {
   "cell_type": "code",
   "execution_count": 13,
   "metadata": {
    "collapsed": false
   },
   "outputs": [
    {
     "name": "stdout",
     "output_type": "stream",
     "text": [
      "'data.frame':\t5 obs. of  3 variables:\n",
      " $ EmpID: int  1 2 3 4 5\n",
      " $ Age  : num  24 30 50 35 55\n",
      " $ Name : chr  \"Adam\" \"Mary\" \"John\" \"David\" ...\n"
     ]
    }
   ],
   "source": [
    "# all these will delete the Title column\n",
    "df$Title <- NULL\n",
    "df[[\"Title\"]] <- NULL\n",
    "df[,\"Title\"] <- NULL\n",
    "df[[4]] <- NULL\n",
    "df[,4] <- NULL\n",
    "str(df)\n"
   ]
  },
  {
   "cell_type": "code",
   "execution_count": 14,
   "metadata": {
    "collapsed": false
   },
   "outputs": [],
   "source": [
    "df$Title = '?' # Making sure column Title exists\n",
    "# this essentially creates a new df without the Title column\n",
    "df <- subset(df, select=-Title) # select all but the Title column"
   ]
  },
  {
   "cell_type": "markdown",
   "metadata": {},
   "source": [
    "** Reorder Columns **"
   ]
  },
  {
   "cell_type": "code",
   "execution_count": 15,
   "metadata": {
    "collapsed": false
   },
   "outputs": [
    {
     "data": {
      "text/html": [
       "<table>\n",
       "<thead><tr><th></th><th scope=col>Name</th><th scope=col>EmpID</th><th scope=col>Age</th></tr></thead>\n",
       "<tbody>\n",
       "\t<tr><th scope=row>1st</th><td>Adam</td><td>1   </td><td>24  </td></tr>\n",
       "\t<tr><th scope=row>2nd</th><td>Mary</td><td>2   </td><td>30  </td></tr>\n",
       "</tbody>\n",
       "</table>\n"
      ],
      "text/latex": [
       "\\begin{tabular}{r|lll}\n",
       "  & Name & EmpID & Age\\\\\n",
       "\\hline\n",
       "\t1st & Adam & 1    & 24  \\\\\n",
       "\t2nd & Mary & 2    & 30  \\\\\n",
       "\\end{tabular}\n"
      ],
      "text/markdown": [
       "\n",
       "| <!--/--> | Name | EmpID | Age | \n",
       "|---|---|\n",
       "| 1st | Adam | 1    | 24   | \n",
       "| 2nd | Mary | 2    | 30   | \n",
       "\n",
       "\n"
      ],
      "text/plain": [
       "    Name EmpID Age\n",
       "1st Adam 1     24 \n",
       "2nd Mary 2     30 "
      ]
     },
     "metadata": {},
     "output_type": "display_data"
    },
    {
     "data": {
      "text/html": [
       "<table>\n",
       "<thead><tr><th></th><th scope=col>Name</th><th scope=col>Age</th><th scope=col>EmpID</th></tr></thead>\n",
       "<tbody>\n",
       "\t<tr><th scope=row>1st</th><td>Adam</td><td>24  </td><td>1   </td></tr>\n",
       "\t<tr><th scope=row>2nd</th><td>Mary</td><td>30  </td><td>2   </td></tr>\n",
       "</tbody>\n",
       "</table>\n"
      ],
      "text/latex": [
       "\\begin{tabular}{r|lll}\n",
       "  & Name & Age & EmpID\\\\\n",
       "\\hline\n",
       "\t1st & Adam & 24   & 1   \\\\\n",
       "\t2nd & Mary & 30   & 2   \\\\\n",
       "\\end{tabular}\n"
      ],
      "text/markdown": [
       "\n",
       "| <!--/--> | Name | Age | EmpID | \n",
       "|---|---|\n",
       "| 1st | Adam | 24   | 1    | \n",
       "| 2nd | Mary | 30   | 2    | \n",
       "\n",
       "\n"
      ],
      "text/plain": [
       "    Name Age EmpID\n",
       "1st Adam 24  1    \n",
       "2nd Mary 30  2    "
      ]
     },
     "metadata": {},
     "output_type": "display_data"
    },
    {
     "data": {
      "text/html": [
       "<table>\n",
       "<thead><tr><th></th><th scope=col>Name</th><th scope=col>EmpID</th><th scope=col>Age</th></tr></thead>\n",
       "<tbody>\n",
       "\t<tr><th scope=row>1st</th><td>Adam</td><td>1   </td><td>24  </td></tr>\n",
       "\t<tr><th scope=row>2nd</th><td>Mary</td><td>2   </td><td>30  </td></tr>\n",
       "</tbody>\n",
       "</table>\n"
      ],
      "text/latex": [
       "\\begin{tabular}{r|lll}\n",
       "  & Name & EmpID & Age\\\\\n",
       "\\hline\n",
       "\t1st & Adam & 1    & 24  \\\\\n",
       "\t2nd & Mary & 2    & 30  \\\\\n",
       "\\end{tabular}\n"
      ],
      "text/markdown": [
       "\n",
       "| <!--/--> | Name | EmpID | Age | \n",
       "|---|---|\n",
       "| 1st | Adam | 1    | 24   | \n",
       "| 2nd | Mary | 2    | 30   | \n",
       "\n",
       "\n"
      ],
      "text/plain": [
       "    Name EmpID Age\n",
       "1st Adam 1     24 \n",
       "2nd Mary 2     30 "
      ]
     },
     "metadata": {},
     "output_type": "display_data"
    }
   ],
   "source": [
    "head(df[c(3,1,2)],2) # retrieve a new df with columsn 3,1,2\n",
    "head(df[, c(3,2,1)],2) # retrieve new df with columns 3,2,1\n",
    "head(df[,c(\"Name\", \"EmpID\", \"Age\")],2) # retrieve new df with named columns"
   ]
  },
  {
   "cell_type": "markdown",
   "metadata": {},
   "source": [
    "** Joine/Merge dataframes **"
   ]
  },
  {
   "cell_type": "code",
   "execution_count": 16,
   "metadata": {
    "collapsed": false
   },
   "outputs": [
    {
     "data": {
      "text/html": [
       "<table>\n",
       "<thead><tr><th scope=col>EmpID</th><th scope=col>Age</th><th scope=col>Name</th><th scope=col>Salary</th></tr></thead>\n",
       "<tbody>\n",
       "\t<tr><td>1    </td><td>24   </td><td>Adam </td><td>250  </td></tr>\n",
       "\t<tr><td>2    </td><td>30   </td><td>Mary </td><td>200  </td></tr>\n",
       "\t<tr><td>3    </td><td>50   </td><td>John </td><td>300  </td></tr>\n",
       "\t<tr><td>4    </td><td>35   </td><td>David</td><td>100  </td></tr>\n",
       "\t<tr><td>5    </td><td>55   </td><td>Sarah</td><td>350  </td></tr>\n",
       "</tbody>\n",
       "</table>\n"
      ],
      "text/latex": [
       "\\begin{tabular}{r|llll}\n",
       " EmpID & Age & Name & Salary\\\\\n",
       "\\hline\n",
       "\t 1     & 24    & Adam  & 250  \\\\\n",
       "\t 2     & 30    & Mary  & 200  \\\\\n",
       "\t 3     & 50    & John  & 300  \\\\\n",
       "\t 4     & 35    & David & 100  \\\\\n",
       "\t 5     & 55    & Sarah & 350  \\\\\n",
       "\\end{tabular}\n"
      ],
      "text/markdown": [
       "\n",
       "EmpID | Age | Name | Salary | \n",
       "|---|---|---|---|---|\n",
       "| 1     | 24    | Adam  | 250   | \n",
       "| 2     | 30    | Mary  | 200   | \n",
       "| 3     | 50    | John  | 300   | \n",
       "| 4     | 35    | David | 100   | \n",
       "| 5     | 55    | Sarah | 350   | \n",
       "\n",
       "\n"
      ],
      "text/plain": [
       "  EmpID Age Name  Salary\n",
       "1 1     24  Adam  250   \n",
       "2 2     30  Mary  200   \n",
       "3 3     50  John  300   \n",
       "4 4     35  David 100   \n",
       "5 5     55  Sarah 350   "
      ]
     },
     "metadata": {},
     "output_type": "display_data"
    }
   ],
   "source": [
    "# create new df ... \n",
    "# note the column is EmployeeID, not EmpID\n",
    "# note the order of rows is different from df\n",
    "dfsal <- data.frame(\"EmployeeID\"=c(2,1,4,5,3), \"Salary\"=c(200,250,100,350,300))\n",
    "merge(df, dfsal, by.x=\"EmpID\", by.y=\"EmployeeID\")"
   ]
  },
  {
   "cell_type": "markdown",
   "metadata": {},
   "source": [
    "** Add / Delete Rows **"
   ]
  },
  {
   "cell_type": "code",
   "execution_count": 17,
   "metadata": {
    "collapsed": false
   },
   "outputs": [
    {
     "data": {
      "text/html": [
       "<table>\n",
       "<thead><tr><th></th><th scope=col>EmpID</th><th scope=col>Age</th><th scope=col>Name</th></tr></thead>\n",
       "<tbody>\n",
       "\t<tr><th scope=row>1st</th><td>1     </td><td>24    </td><td>Adam  </td></tr>\n",
       "\t<tr><th scope=row>2nd</th><td>2     </td><td>30    </td><td>Mary  </td></tr>\n",
       "\t<tr><th scope=row>3rd</th><td>3     </td><td>50    </td><td>John  </td></tr>\n",
       "\t<tr><th scope=row>4th</th><td>4     </td><td>35    </td><td>David </td></tr>\n",
       "\t<tr><th scope=row>5th</th><td>5     </td><td>55    </td><td>Sarah </td></tr>\n",
       "\t<tr><th scope=row>6</th><td>6     </td><td>50    </td><td>Zahid </td></tr>\n",
       "\t<tr><th scope=row>1</th><td>7     </td><td>25    </td><td>Sam   </td></tr>\n",
       "\t<tr><th scope=row>2</th><td>8     </td><td>29    </td><td>Rehana</td></tr>\n",
       "</tbody>\n",
       "</table>\n"
      ],
      "text/latex": [
       "\\begin{tabular}{r|lll}\n",
       "  & EmpID & Age & Name\\\\\n",
       "\\hline\n",
       "\t1st & 1      & 24     & Adam  \\\\\n",
       "\t2nd & 2      & 30     & Mary  \\\\\n",
       "\t3rd & 3      & 50     & John  \\\\\n",
       "\t4th & 4      & 35     & David \\\\\n",
       "\t5th & 5      & 55     & Sarah \\\\\n",
       "\t6 & 6      & 50     & Zahid \\\\\n",
       "\t1 & 7      & 25     & Sam   \\\\\n",
       "\t2 & 8      & 29     & Rehana\\\\\n",
       "\\end{tabular}\n"
      ],
      "text/markdown": [
       "\n",
       "| <!--/--> | EmpID | Age | Name | \n",
       "|---|---|---|---|---|---|---|---|\n",
       "| 1st | 1      | 24     | Adam   | \n",
       "| 2nd | 2      | 30     | Mary   | \n",
       "| 3rd | 3      | 50     | John   | \n",
       "| 4th | 4      | 35     | David  | \n",
       "| 5th | 5      | 55     | Sarah  | \n",
       "| 6 | 6      | 50     | Zahid  | \n",
       "| 1 | 7      | 25     | Sam    | \n",
       "| 2 | 8      | 29     | Rehana | \n",
       "\n",
       "\n"
      ],
      "text/plain": [
       "    EmpID Age Name  \n",
       "1st 1     24  Adam  \n",
       "2nd 2     30  Mary  \n",
       "3rd 3     50  John  \n",
       "4th 4     35  David \n",
       "5th 5     55  Sarah \n",
       "6   6     50  Zahid \n",
       "1   7     25  Sam   \n",
       "2   8     29  Rehana"
      ]
     },
     "metadata": {},
     "output_type": "display_data"
    }
   ],
   "source": [
    "# append a vector as a new row to df\n",
    "dfNew <- rbind(df, c(6, 50, \"Zahid\")) \n",
    "# bind another data table\n",
    "dfNew <- rbind(dfNew, data.frame(\"EmpID\"=c(7,8), \"Age\"=c(25,29), \"Name\"=c('Sam', 'Rehana')))\n",
    "dfNew"
   ]
  },
  {
   "cell_type": "code",
   "execution_count": 18,
   "metadata": {
    "collapsed": false
   },
   "outputs": [
    {
     "data": {
      "text/html": [
       "<table>\n",
       "<thead><tr><th></th><th scope=col>EmpID</th><th scope=col>Age</th><th scope=col>Name</th></tr></thead>\n",
       "<tbody>\n",
       "\t<tr><th scope=row>1st</th><td>1     </td><td>24    </td><td>Adam  </td></tr>\n",
       "\t<tr><th scope=row>2nd</th><td>2     </td><td>30    </td><td>Mary  </td></tr>\n",
       "\t<tr><th scope=row>3rd</th><td>3     </td><td>50    </td><td>John  </td></tr>\n",
       "\t<tr><th scope=row>4th</th><td>4     </td><td>35    </td><td>David </td></tr>\n",
       "\t<tr><th scope=row>5th</th><td>5     </td><td>55    </td><td>Sarah </td></tr>\n",
       "\t<tr><th scope=row>1</th><td>7     </td><td>25    </td><td>Sam   </td></tr>\n",
       "\t<tr><th scope=row>2</th><td>8     </td><td>29    </td><td>Rehana</td></tr>\n",
       "</tbody>\n",
       "</table>\n"
      ],
      "text/latex": [
       "\\begin{tabular}{r|lll}\n",
       "  & EmpID & Age & Name\\\\\n",
       "\\hline\n",
       "\t1st & 1      & 24     & Adam  \\\\\n",
       "\t2nd & 2      & 30     & Mary  \\\\\n",
       "\t3rd & 3      & 50     & John  \\\\\n",
       "\t4th & 4      & 35     & David \\\\\n",
       "\t5th & 5      & 55     & Sarah \\\\\n",
       "\t1 & 7      & 25     & Sam   \\\\\n",
       "\t2 & 8      & 29     & Rehana\\\\\n",
       "\\end{tabular}\n"
      ],
      "text/markdown": [
       "\n",
       "| <!--/--> | EmpID | Age | Name | \n",
       "|---|---|---|---|---|---|---|\n",
       "| 1st | 1      | 24     | Adam   | \n",
       "| 2nd | 2      | 30     | Mary   | \n",
       "| 3rd | 3      | 50     | John   | \n",
       "| 4th | 4      | 35     | David  | \n",
       "| 5th | 5      | 55     | Sarah  | \n",
       "| 1 | 7      | 25     | Sam    | \n",
       "| 2 | 8      | 29     | Rehana | \n",
       "\n",
       "\n"
      ],
      "text/plain": [
       "    EmpID Age Name  \n",
       "1st 1     24  Adam  \n",
       "2nd 2     30  Mary  \n",
       "3rd 3     50  John  \n",
       "4th 4     35  David \n",
       "5th 5     55  Sarah \n",
       "1   7     25  Sam   \n",
       "2   8     29  Rehana"
      ]
     },
     "metadata": {},
     "output_type": "display_data"
    },
    {
     "data": {
      "text/html": [
       "<table>\n",
       "<thead><tr><th></th><th scope=col>Age</th><th scope=col>Name</th></tr></thead>\n",
       "<tbody>\n",
       "\t<tr><th scope=row>3rd</th><td>50   </td><td>John </td></tr>\n",
       "\t<tr><th scope=row>4th</th><td>35   </td><td>David</td></tr>\n",
       "\t<tr><th scope=row>5th</th><td>55   </td><td>Sarah</td></tr>\n",
       "\t<tr><th scope=row>6</th><td>50   </td><td>Zahid</td></tr>\n",
       "</tbody>\n",
       "</table>\n"
      ],
      "text/latex": [
       "\\begin{tabular}{r|ll}\n",
       "  & Age & Name\\\\\n",
       "\\hline\n",
       "\t3rd & 50    & John \\\\\n",
       "\t4th & 35    & David\\\\\n",
       "\t5th & 55    & Sarah\\\\\n",
       "\t6 & 50    & Zahid\\\\\n",
       "\\end{tabular}\n"
      ],
      "text/markdown": [
       "\n",
       "| <!--/--> | Age | Name | \n",
       "|---|---|---|---|\n",
       "| 3rd | 50    | John  | \n",
       "| 4th | 35    | David | \n",
       "| 5th | 55    | Sarah | \n",
       "| 6 | 50    | Zahid | \n",
       "\n",
       "\n"
      ],
      "text/plain": [
       "    Age Name \n",
       "3rd 50  John \n",
       "4th 35  David\n",
       "5th 55  Sarah\n",
       "6   50  Zahid"
      ]
     },
     "metadata": {},
     "output_type": "display_data"
    }
   ],
   "source": [
    "# remove a row\n",
    "dfNew[-(6),] # remove 6th row\n",
    "\n",
    "# split table based on condition\n",
    "# new df will not have EmpID\n",
    "dfSplit <- subset(dfNew, Age>30, select=-EmpID)\n",
    "dfSplit"
   ]
  },
  {
   "cell_type": "markdown",
   "metadata": {},
   "source": [
    "** Rename Columns **"
   ]
  },
  {
   "cell_type": "code",
   "execution_count": 19,
   "metadata": {
    "collapsed": false
   },
   "outputs": [
    {
     "data": {
      "text/html": [
       "<ol class=list-inline>\n",
       "\t<li>'EmpID'</li>\n",
       "\t<li>'Age'</li>\n",
       "\t<li>'Name'</li>\n",
       "\t<li>'Yrs'</li>\n",
       "</ol>\n"
      ],
      "text/latex": [
       "\\begin{enumerate*}\n",
       "\\item 'EmpID'\n",
       "\\item 'Age'\n",
       "\\item 'Name'\n",
       "\\item 'Yrs'\n",
       "\\end{enumerate*}\n"
      ],
      "text/markdown": [
       "1. 'EmpID'\n",
       "2. 'Age'\n",
       "3. 'Name'\n",
       "4. 'Yrs'\n",
       "\n",
       "\n"
      ],
      "text/plain": [
       "[1] \"EmpID\" \"Age\"   \"Name\"  \"Yrs\"  "
      ]
     },
     "metadata": {},
     "output_type": "display_data"
    }
   ],
   "source": [
    "df$Years <- 0 # add a new column\n",
    "names(df)[4] <- \"Yrs\" #rename it from Years to Yrs\n",
    "names(df)[names(df) ==\"Years\"] <- \"Yrs\" #rename it from Years to Yrs\n",
    "names(df) # get columns names\n",
    "df$Yrs <- NULL # remove column "
   ]
  },
  {
   "cell_type": "markdown",
   "metadata": {},
   "source": [
    "** Order / Sort **"
   ]
  },
  {
   "cell_type": "code",
   "execution_count": 20,
   "metadata": {
    "collapsed": false
   },
   "outputs": [
    {
     "data": {
      "text/html": [
       "<table>\n",
       "<thead><tr><th></th><th scope=col>EmpID</th><th scope=col>Age</th><th scope=col>Name</th></tr></thead>\n",
       "<tbody>\n",
       "\t<tr><th scope=row>1st</th><td>1    </td><td>24   </td><td>Adam </td></tr>\n",
       "\t<tr><th scope=row>2nd</th><td>2    </td><td>30   </td><td>Mary </td></tr>\n",
       "\t<tr><th scope=row>4th</th><td>4    </td><td>35   </td><td>David</td></tr>\n",
       "\t<tr><th scope=row>3rd</th><td>3    </td><td>50   </td><td>John </td></tr>\n",
       "\t<tr><th scope=row>5th</th><td>5    </td><td>55   </td><td>Sarah</td></tr>\n",
       "</tbody>\n",
       "</table>\n"
      ],
      "text/latex": [
       "\\begin{tabular}{r|lll}\n",
       "  & EmpID & Age & Name\\\\\n",
       "\\hline\n",
       "\t1st & 1     & 24    & Adam \\\\\n",
       "\t2nd & 2     & 30    & Mary \\\\\n",
       "\t4th & 4     & 35    & David\\\\\n",
       "\t3rd & 3     & 50    & John \\\\\n",
       "\t5th & 5     & 55    & Sarah\\\\\n",
       "\\end{tabular}\n"
      ],
      "text/markdown": [
       "\n",
       "| <!--/--> | EmpID | Age | Name | \n",
       "|---|---|---|---|---|\n",
       "| 1st | 1     | 24    | Adam  | \n",
       "| 2nd | 2     | 30    | Mary  | \n",
       "| 4th | 4     | 35    | David | \n",
       "| 3rd | 3     | 50    | John  | \n",
       "| 5th | 5     | 55    | Sarah | \n",
       "\n",
       "\n"
      ],
      "text/plain": [
       "    EmpID Age Name \n",
       "1st 1     24  Adam \n",
       "2nd 2     30  Mary \n",
       "4th 4     35  David\n",
       "3rd 3     50  John \n",
       "5th 5     55  Sarah"
      ]
     },
     "metadata": {},
     "output_type": "display_data"
    },
    {
     "data": {
      "text/html": [
       "<table>\n",
       "<thead><tr><th></th><th scope=col>EmpID</th><th scope=col>Age</th><th scope=col>Name</th></tr></thead>\n",
       "<tbody>\n",
       "\t<tr><th scope=row>5th</th><td>5    </td><td>55   </td><td>Sarah</td></tr>\n",
       "\t<tr><th scope=row>3rd</th><td>3    </td><td>50   </td><td>John </td></tr>\n",
       "\t<tr><th scope=row>4th</th><td>4    </td><td>35   </td><td>David</td></tr>\n",
       "\t<tr><th scope=row>2nd</th><td>2    </td><td>30   </td><td>Mary </td></tr>\n",
       "\t<tr><th scope=row>1st</th><td>1    </td><td>24   </td><td>Adam </td></tr>\n",
       "</tbody>\n",
       "</table>\n"
      ],
      "text/latex": [
       "\\begin{tabular}{r|lll}\n",
       "  & EmpID & Age & Name\\\\\n",
       "\\hline\n",
       "\t5th & 5     & 55    & Sarah\\\\\n",
       "\t3rd & 3     & 50    & John \\\\\n",
       "\t4th & 4     & 35    & David\\\\\n",
       "\t2nd & 2     & 30    & Mary \\\\\n",
       "\t1st & 1     & 24    & Adam \\\\\n",
       "\\end{tabular}\n"
      ],
      "text/markdown": [
       "\n",
       "| <!--/--> | EmpID | Age | Name | \n",
       "|---|---|---|---|---|\n",
       "| 5th | 5     | 55    | Sarah | \n",
       "| 3rd | 3     | 50    | John  | \n",
       "| 4th | 4     | 35    | David | \n",
       "| 2nd | 2     | 30    | Mary  | \n",
       "| 1st | 1     | 24    | Adam  | \n",
       "\n",
       "\n"
      ],
      "text/plain": [
       "    EmpID Age Name \n",
       "5th 5     55  Sarah\n",
       "3rd 3     50  John \n",
       "4th 4     35  David\n",
       "2nd 2     30  Mary \n",
       "1st 1     24  Adam "
      ]
     },
     "metadata": {},
     "output_type": "display_data"
    },
    {
     "data": {
      "text/html": [
       "<table>\n",
       "<thead><tr><th></th><th scope=col>EmpID</th><th scope=col>Age</th><th scope=col>Name</th></tr></thead>\n",
       "<tbody>\n",
       "\t<tr><th scope=row>5th</th><td>5    </td><td>55   </td><td>Sarah</td></tr>\n",
       "\t<tr><th scope=row>2nd</th><td>2    </td><td>30   </td><td>Mary </td></tr>\n",
       "\t<tr><th scope=row>3rd</th><td>3    </td><td>50   </td><td>John </td></tr>\n",
       "\t<tr><th scope=row>4th</th><td>4    </td><td>35   </td><td>David</td></tr>\n",
       "\t<tr><th scope=row>1st</th><td>1    </td><td>24   </td><td>Adam </td></tr>\n",
       "</tbody>\n",
       "</table>\n"
      ],
      "text/latex": [
       "\\begin{tabular}{r|lll}\n",
       "  & EmpID & Age & Name\\\\\n",
       "\\hline\n",
       "\t5th & 5     & 55    & Sarah\\\\\n",
       "\t2nd & 2     & 30    & Mary \\\\\n",
       "\t3rd & 3     & 50    & John \\\\\n",
       "\t4th & 4     & 35    & David\\\\\n",
       "\t1st & 1     & 24    & Adam \\\\\n",
       "\\end{tabular}\n"
      ],
      "text/markdown": [
       "\n",
       "| <!--/--> | EmpID | Age | Name | \n",
       "|---|---|---|---|---|\n",
       "| 5th | 5     | 55    | Sarah | \n",
       "| 2nd | 2     | 30    | Mary  | \n",
       "| 3rd | 3     | 50    | John  | \n",
       "| 4th | 4     | 35    | David | \n",
       "| 1st | 1     | 24    | Adam  | \n",
       "\n",
       "\n"
      ],
      "text/plain": [
       "    EmpID Age Name \n",
       "5th 5     55  Sarah\n",
       "2nd 2     30  Mary \n",
       "3rd 3     50  John \n",
       "4th 4     35  David\n",
       "1st 1     24  Adam "
      ]
     },
     "metadata": {},
     "output_type": "display_data"
    }
   ],
   "source": [
    "df[order(df$Age),]\n",
    "df[order(-df$Age),] # reverse order\n",
    "df[rev(order(df$Name)),] # reverse order, characters\n",
    "# df[order(-xtfrm(df$Name)),] # reverse order, characters (another way)"
   ]
  },
  {
   "cell_type": "code",
   "execution_count": null,
   "metadata": {
    "collapsed": true
   },
   "outputs": [],
   "source": []
  },
  {
   "cell_type": "code",
   "execution_count": null,
   "metadata": {
    "collapsed": true
   },
   "outputs": [],
   "source": []
  }
 ],
 "metadata": {
  "kernelspec": {
   "display_name": "R",
   "language": "R",
   "name": "ir"
  },
  "language_info": {
   "codemirror_mode": "r",
   "file_extension": ".r",
   "mimetype": "text/x-r-source",
   "name": "R",
   "pygments_lexer": "r",
   "version": "3.3.2"
  }
 },
 "nbformat": 4,
 "nbformat_minor": 2
}
