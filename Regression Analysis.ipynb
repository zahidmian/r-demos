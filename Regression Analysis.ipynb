{
 "cells": [
  {
   "cell_type": "markdown",
   "metadata": {
    "collapsed": true
   },
   "source": [
    "# Regression Analysis\n",
    "** What is Regression Analysis? **\n",
    "In statistics, linear regression is an approach for modeling the relationship between a scalar dependent variable y and one or more explanatory variables (or independent variables) denoted X. (wikipedia)"
   ]
  },
  {
   "cell_type": "code",
   "execution_count": 152,
   "metadata": {},
   "outputs": [],
   "source": [
    "# libraries needed\n",
    "library(caTools)\n",
    "library(ggplot2)\n",
    "library(e1071) # for Support Vector Regression\n",
    "library(rpart) # for Decision Tree Regression\n",
    "library(randomForest) # for Random Forest Regression"
   ]
  },
  {
   "cell_type": "markdown",
   "metadata": {},
   "source": [
    "## Simple Linear Regression\n",
    "#### y = b0 + b1\\*x1\n",
    "**Let's find out the relationship between YearsExperience (independent variable or iv) and Salary (dependent variable)**\n"
   ]
  },
  {
   "cell_type": "code",
   "execution_count": 19,
   "metadata": {},
   "outputs": [],
   "source": [
    "# Importing the dataset\n",
    "dataset = read.csv('Salary_Data.csv')"
   ]
  },
  {
   "cell_type": "code",
   "execution_count": 3,
   "metadata": {},
   "outputs": [
    {
     "data": {
      "text/html": [
       "<table>\n",
       "<thead><tr><th scope=col>YearsExperience</th><th scope=col>Salary</th></tr></thead>\n",
       "<tbody>\n",
       "\t<tr><td>1.1  </td><td>39343</td></tr>\n",
       "\t<tr><td>1.3  </td><td>46205</td></tr>\n",
       "\t<tr><td>1.5  </td><td>37731</td></tr>\n",
       "\t<tr><td>2.0  </td><td>43525</td></tr>\n",
       "\t<tr><td>2.2  </td><td>39891</td></tr>\n",
       "\t<tr><td>2.9  </td><td>56642</td></tr>\n",
       "</tbody>\n",
       "</table>\n"
      ],
      "text/latex": [
       "\\begin{tabular}{r|ll}\n",
       " YearsExperience & Salary\\\\\n",
       "\\hline\n",
       "\t 1.1   & 39343\\\\\n",
       "\t 1.3   & 46205\\\\\n",
       "\t 1.5   & 37731\\\\\n",
       "\t 2.0   & 43525\\\\\n",
       "\t 2.2   & 39891\\\\\n",
       "\t 2.9   & 56642\\\\\n",
       "\\end{tabular}\n"
      ],
      "text/markdown": [
       "\n",
       "YearsExperience | Salary | \n",
       "|---|---|---|---|---|---|\n",
       "| 1.1   | 39343 | \n",
       "| 1.3   | 46205 | \n",
       "| 1.5   | 37731 | \n",
       "| 2.0   | 43525 | \n",
       "| 2.2   | 39891 | \n",
       "| 2.9   | 56642 | \n",
       "\n",
       "\n"
      ],
      "text/plain": [
       "  YearsExperience Salary\n",
       "1 1.1             39343 \n",
       "2 1.3             46205 \n",
       "3 1.5             37731 \n",
       "4 2.0             43525 \n",
       "5 2.2             39891 \n",
       "6 2.9             56642 "
      ]
     },
     "metadata": {},
     "output_type": "display_data"
    }
   ],
   "source": [
    "head(dataset)"
   ]
  },
  {
   "cell_type": "code",
   "execution_count": 20,
   "metadata": {
    "collapsed": true
   },
   "outputs": [],
   "source": [
    "# Splitting the dataset into the Training set and Test set\n",
    "# install.packages('caTools')\n",
    "\n",
    "set.seed(123) # use seed to get consistent results across executions\n",
    "split = sample.split(dataset$Salary, SplitRatio = 2/3)\n",
    "training_set = subset(dataset, split == TRUE)\n",
    "test_set = subset(dataset, split == FALSE)"
   ]
  },
  {
   "cell_type": "code",
   "execution_count": 21,
   "metadata": {
    "collapsed": true
   },
   "outputs": [],
   "source": [
    "# Fitting Simple Linear Regression to the Training set\n",
    "# use training set to define linear regression model between Salar and YearsExperience\n",
    "regressor = lm(formula = Salary ~ YearsExperience,\n",
    "               data = training_set)"
   ]
  },
  {
   "cell_type": "code",
   "execution_count": 22,
   "metadata": {
    "collapsed": true
   },
   "outputs": [],
   "source": [
    "# Predicting the Test set results\n",
    "# this will give us an indication of how good the regression model was\n",
    "y_pred = predict(regressor, newdata = test_set)"
   ]
  },
  {
   "cell_type": "code",
   "execution_count": 9,
   "metadata": {},
   "outputs": [
    {
     "data": {},
     "metadata": {},
     "output_type": "display_data"
    },
    {
     "data": {
      "image/png": "[encoded data removed]",
      "text/plain": [
       "plot without title"
      ]
     },
     "metadata": {},
     "output_type": "display_data"
    }
   ],
   "source": [
    "# Visualising the Training set results\n",
    "ggplot() +\n",
    "  geom_point(aes(x = training_set$YearsExperience, y = training_set$Salary),\n",
    "             colour = 'red') +\n",
    "  geom_line(aes(x = training_set$YearsExperience, y = predict(regressor, newdata = training_set)),\n",
    "            colour = 'blue') +\n",
    "  ggtitle('Salary vs Experience (Training set)') +\n",
    "  xlab('Years of experience') +\n",
    "  ylab('Salary')"
   ]
  },
  {
   "cell_type": "code",
   "execution_count": 10,
   "metadata": {},
   "outputs": [
    {
     "data": {},
     "metadata": {},
     "output_type": "display_data"
    },
    {
     "data": {
      "image/png": "[encoded data removed]",
      "text/plain": [
       "plot without title"
      ]
     },
     "metadata": {},
     "output_type": "display_data"
    }
   ],
   "source": [
    "# Visualising the Test set results\n",
    "ggplot() +\n",
    "  geom_point(aes(x = test_set$YearsExperience, y = test_set$Salary),\n",
    "             colour = 'red') +\n",
    "  geom_line(aes(x = training_set$YearsExperience, y = predict(regressor, newdata = training_set)),\n",
    "            colour = 'blue') +\n",
    "  ggtitle('Salary vs Experience (Test set)') +\n",
    "  xlab('Years of experience') +\n",
    "  ylab('Salary')"
   ]
  },
  {
   "cell_type": "code",
   "execution_count": 31,
   "metadata": {},
   "outputs": [
    {
     "data": {
      "text/plain": [
       "\n",
       "Call:\n",
       "lm(formula = Salary ~ YearsExperience, data = training_set)\n",
       "\n",
       "Residuals:\n",
       "    Min      1Q  Median      3Q     Max \n",
       "-7325.1 -3814.4   427.7  3559.7  8884.6 \n",
       "\n",
       "Coefficients:\n",
       "                Estimate Std. Error t value Pr(>|t|)    \n",
       "(Intercept)        25592       2646   9.672 1.49e-08 ***\n",
       "YearsExperience     9365        421  22.245 1.52e-14 ***\n",
       "---\n",
       "Signif. codes:  0 '***' 0.001 '**' 0.01 '*' 0.05 '.' 0.1 ' ' 1\n",
       "\n",
       "Residual standard error: 5391 on 18 degrees of freedom\n",
       "Multiple R-squared:  0.9649,\tAdjusted R-squared:  0.963 \n",
       "F-statistic: 494.8 on 1 and 18 DF,  p-value: 1.524e-14\n"
      ]
     },
     "metadata": {},
     "output_type": "display_data"
    }
   ],
   "source": [
    "# let's look at the model\n",
    "summary(regressor)\n",
    "# Signif. Codes indicates the significance of the independent variable \n",
    "# in this case three stars (***) means a strong significance\n",
    "# Estimate value means for each unit of year (in this case 1 year),\n",
    "# expect to see an increase in salary of 9365\n"
   ]
  },
  {
   "cell_type": "code",
   "execution_count": 30,
   "metadata": {},
   "outputs": [
    {
     "data": {
      "text/html": [
       "<strong>1:</strong> 166068.394411084"
      ],
      "text/latex": [
       "\\textbf{1:} 166068.394411084"
      ],
      "text/markdown": [
       "**1:** 166068.394411084"
      ],
      "text/plain": [
       "       1 \n",
       "166068.4 "
      ]
     },
     "metadata": {},
     "output_type": "display_data"
    }
   ],
   "source": [
    "# so what would be the salar with 15 years of experience?\n",
    "# predict takes a regressor object and a dataframe \n",
    "# that has at least one column named YearsExperience\n",
    "predict(regressor, data.frame(YearsExperience= c(15)))"
   ]
  },
  {
   "cell_type": "markdown",
   "metadata": {},
   "source": [
    "## Multiple Linear Regression\n",
    "#### y = b0 + b1\\*x1 + b2\\*x2 + ... + bN\\*xN\n",
    "**Let's find out the relationship between multiple (independent variables or iv) and Profit (dependent variable)**\n"
   ]
  },
  {
   "cell_type": "code",
   "execution_count": 35,
   "metadata": {
    "collapsed": true
   },
   "outputs": [],
   "source": [
    "# Importing the dataset\n",
    "dataset = read.csv('50_Startups.csv')"
   ]
  },
  {
   "cell_type": "code",
   "execution_count": 36,
   "metadata": {},
   "outputs": [
    {
     "data": {
      "text/html": [
       "<table>\n",
       "<thead><tr><th scope=col>R.D.Spend</th><th scope=col>Administration</th><th scope=col>Marketing.Spend</th><th scope=col>State</th><th scope=col>Profit</th></tr></thead>\n",
       "<tbody>\n",
       "\t<tr><td>165349.2  </td><td>136897.80 </td><td>471784.1  </td><td>New York  </td><td>192261.8  </td></tr>\n",
       "\t<tr><td>162597.7  </td><td>151377.59 </td><td>443898.5  </td><td>California</td><td>191792.1  </td></tr>\n",
       "\t<tr><td>153441.5  </td><td>101145.55 </td><td>407934.5  </td><td>Florida   </td><td>191050.4  </td></tr>\n",
       "\t<tr><td>144372.4  </td><td>118671.85 </td><td>383199.6  </td><td>New York  </td><td>182902.0  </td></tr>\n",
       "\t<tr><td>142107.3  </td><td> 91391.77 </td><td>366168.4  </td><td>Florida   </td><td>166187.9  </td></tr>\n",
       "\t<tr><td>131876.9  </td><td> 99814.71 </td><td>362861.4  </td><td>New York  </td><td>156991.1  </td></tr>\n",
       "</tbody>\n",
       "</table>\n"
      ],
      "text/latex": [
       "\\begin{tabular}{r|lllll}\n",
       " R.D.Spend & Administration & Marketing.Spend & State & Profit\\\\\n",
       "\\hline\n",
       "\t 165349.2   & 136897.80  & 471784.1   & New York   & 192261.8  \\\\\n",
       "\t 162597.7   & 151377.59  & 443898.5   & California & 191792.1  \\\\\n",
       "\t 153441.5   & 101145.55  & 407934.5   & Florida    & 191050.4  \\\\\n",
       "\t 144372.4   & 118671.85  & 383199.6   & New York   & 182902.0  \\\\\n",
       "\t 142107.3   &  91391.77  & 366168.4   & Florida    & 166187.9  \\\\\n",
       "\t 131876.9   &  99814.71  & 362861.4   & New York   & 156991.1  \\\\\n",
       "\\end{tabular}\n"
      ],
      "text/markdown": [
       "\n",
       "R.D.Spend | Administration | Marketing.Spend | State | Profit | \n",
       "|---|---|---|---|---|---|\n",
       "| 165349.2   | 136897.80  | 471784.1   | New York   | 192261.8   | \n",
       "| 162597.7   | 151377.59  | 443898.5   | California | 191792.1   | \n",
       "| 153441.5   | 101145.55  | 407934.5   | Florida    | 191050.4   | \n",
       "| 144372.4   | 118671.85  | 383199.6   | New York   | 182902.0   | \n",
       "| 142107.3   |  91391.77  | 366168.4   | Florida    | 166187.9   | \n",
       "| 131876.9   |  99814.71  | 362861.4   | New York   | 156991.1   | \n",
       "\n",
       "\n"
      ],
      "text/plain": [
       "  R.D.Spend Administration Marketing.Spend State      Profit  \n",
       "1 165349.2  136897.80      471784.1        New York   192261.8\n",
       "2 162597.7  151377.59      443898.5        California 191792.1\n",
       "3 153441.5  101145.55      407934.5        Florida    191050.4\n",
       "4 144372.4  118671.85      383199.6        New York   182902.0\n",
       "5 142107.3   91391.77      366168.4        Florida    166187.9\n",
       "6 131876.9   99814.71      362861.4        New York   156991.1"
      ]
     },
     "metadata": {},
     "output_type": "display_data"
    }
   ],
   "source": [
    "head(dataset)\n",
    "# there are four independent variables and 1 dependent variable (Profit)\n",
    "# We want to find out which iv are/is most significant for predicting Profit"
   ]
  },
  {
   "cell_type": "code",
   "execution_count": 37,
   "metadata": {
    "collapsed": true
   },
   "outputs": [],
   "source": [
    "# Encoding categorical data\n",
    "# since state is character, need to convert it to numeric for analysis\n",
    "dataset$State = factor(dataset$State,\n",
    "                       levels = c('New York', 'California', 'Florida'),\n",
    "                       labels = c(1, 2, 3))"
   ]
  },
  {
   "cell_type": "code",
   "execution_count": 38,
   "metadata": {
    "collapsed": true
   },
   "outputs": [],
   "source": [
    "# Splitting the dataset into the Training set and Test set\n",
    "set.seed(123)\n",
    "split = sample.split(dataset$Profit, SplitRatio = 0.8)\n",
    "training_set = subset(dataset, split == TRUE)\n",
    "test_set = subset(dataset, split == FALSE)"
   ]
  },
  {
   "cell_type": "code",
   "execution_count": 39,
   "metadata": {
    "collapsed": true
   },
   "outputs": [],
   "source": [
    "# Fitting Multiple Linear Regression to the Training set\n",
    "# regressor = lm(formula = Profit ~ R.D.Spend + Administration + Marketing.Spend + State,\n",
    "#     data = training_set)\n",
    "# . implies all independent variables\n",
    "regressor = lm(formula = Profit ~ .,\n",
    "               data = training_set)"
   ]
  },
  {
   "cell_type": "code",
   "execution_count": 40,
   "metadata": {
    "collapsed": true
   },
   "outputs": [],
   "source": [
    "# Predicting the Test set results\n",
    "y_pred = predict(regressor, newdata = test_set)"
   ]
  },
  {
   "cell_type": "code",
   "execution_count": 41,
   "metadata": {},
   "outputs": [
    {
     "data": {
      "text/plain": [
       "\n",
       "Call:\n",
       "lm(formula = Profit ~ ., data = training_set)\n",
       "\n",
       "Residuals:\n",
       "   Min     1Q Median     3Q    Max \n",
       "-33128  -4865      5   6098  18065 \n",
       "\n",
       "Coefficients:\n",
       "                  Estimate Std. Error t value Pr(>|t|)    \n",
       "(Intercept)      4.965e+04  7.637e+03   6.501 1.94e-07 ***\n",
       "R.D.Spend        7.986e-01  5.604e-02  14.251 6.70e-16 ***\n",
       "Administration  -2.942e-02  5.828e-02  -0.505    0.617    \n",
       "Marketing.Spend  3.268e-02  2.127e-02   1.537    0.134    \n",
       "State2           1.213e+02  3.751e+03   0.032    0.974    \n",
       "State3           2.376e+02  4.127e+03   0.058    0.954    \n",
       "---\n",
       "Signif. codes:  0 '***' 0.001 '**' 0.01 '*' 0.05 '.' 0.1 ' ' 1\n",
       "\n",
       "Residual standard error: 9908 on 34 degrees of freedom\n",
       "Multiple R-squared:  0.9499,\tAdjusted R-squared:  0.9425 \n",
       "F-statistic:   129 on 5 and 34 DF,  p-value: < 2.2e-16\n"
      ]
     },
     "metadata": {},
     "output_type": "display_data"
    }
   ],
   "source": [
    "summary(regressor)\n",
    "# this shows that R.D.Spend is the only significant iv"
   ]
  },
  {
   "cell_type": "code",
   "execution_count": 46,
   "metadata": {},
   "outputs": [
    {
     "data": {
      "text/html": [
       "TRUE"
      ],
      "text/latex": [
       "TRUE"
      ],
      "text/markdown": [
       "TRUE"
      ],
      "text/plain": [
       "[1] TRUE"
      ]
     },
     "metadata": {},
     "output_type": "display_data"
    }
   ],
   "source": [
    "# Since R&D Spend is the only significant iv, you can build the lm \n",
    "# with Profit ~ R.D.Spend and the regressor will be the same\n",
    "regressor2 = lm(formula = Profit ~ .,\n",
    "               data = training_set)\n",
    "y_pred2 = predict(regressor2, newdata = test_set)\n",
    "all.equal(y_pred, y_pred2)"
   ]
  },
  {
   "cell_type": "markdown",
   "metadata": {},
   "source": [
    "#### Backward Elimination process\n",
    "** Do we have to use all the ivs in our model? What if there was an iv called governer? Would that really have any significance at all? One way to build an optimal model is to use a technique called Backward Elimination. **"
   ]
  },
  {
   "cell_type": "code",
   "execution_count": 47,
   "metadata": {},
   "outputs": [
    {
     "data": {
      "text/plain": [
       "\n",
       "Call:\n",
       "lm(formula = Profit ~ R.D.Spend + Administration + Marketing.Spend, \n",
       "    data = dataset)\n",
       "\n",
       "Residuals:\n",
       "   Min     1Q Median     3Q    Max \n",
       "-33534  -4795     63   6606  17275 \n",
       "\n",
       "Coefficients:\n",
       "                  Estimate Std. Error t value Pr(>|t|)    \n",
       "(Intercept)      5.012e+04  6.572e+03   7.626 1.06e-09 ***\n",
       "R.D.Spend        8.057e-01  4.515e-02  17.846  < 2e-16 ***\n",
       "Administration  -2.682e-02  5.103e-02  -0.526    0.602    \n",
       "Marketing.Spend  2.723e-02  1.645e-02   1.655    0.105    \n",
       "---\n",
       "Signif. codes:  0 '***' 0.001 '**' 0.01 '*' 0.05 '.' 0.1 ' ' 1\n",
       "\n",
       "Residual standard error: 9232 on 46 degrees of freedom\n",
       "Multiple R-squared:  0.9507,\tAdjusted R-squared:  0.9475 \n",
       "F-statistic:   296 on 3 and 46 DF,  p-value: < 2.2e-16\n"
      ]
     },
     "metadata": {},
     "output_type": "display_data"
    }
   ],
   "source": [
    "# Use a rule that only ivs with significance level (SL) below 0.05 are usefull\n",
    "# from previous summary of model, we see that State2/3 have very high p-values\n",
    "# so let's eliminate them from the model\n",
    "regressor = lm(formula = Profit ~ R.D.Spend + Administration + Marketing.Spend,\n",
    "               data = dataset)\n",
    "summary(regressor)\n",
    "# we see that Administration "
   ]
  },
  {
   "cell_type": "code",
   "execution_count": 48,
   "metadata": {},
   "outputs": [
    {
     "data": {
      "text/plain": [
       "\n",
       "Call:\n",
       "lm(formula = Profit ~ R.D.Spend + Marketing.Spend, data = dataset)\n",
       "\n",
       "Residuals:\n",
       "   Min     1Q Median     3Q    Max \n",
       "-33645  -4632   -414   6484  17097 \n",
       "\n",
       "Coefficients:\n",
       "                 Estimate Std. Error t value Pr(>|t|)    \n",
       "(Intercept)     4.698e+04  2.690e+03  17.464   <2e-16 ***\n",
       "R.D.Spend       7.966e-01  4.135e-02  19.266   <2e-16 ***\n",
       "Marketing.Spend 2.991e-02  1.552e-02   1.927     0.06 .  \n",
       "---\n",
       "Signif. codes:  0 '***' 0.001 '**' 0.01 '*' 0.05 '.' 0.1 ' ' 1\n",
       "\n",
       "Residual standard error: 9161 on 47 degrees of freedom\n",
       "Multiple R-squared:  0.9505,\tAdjusted R-squared:  0.9483 \n",
       "F-statistic: 450.8 on 2 and 47 DF,  p-value: < 2.2e-16\n"
      ]
     },
     "metadata": {},
     "output_type": "display_data"
    }
   ],
   "source": [
    "# now we see that Administration has a p-value greater than 0.05\n",
    "# so let's eliminate it from the model\n",
    "regressor = lm(formula = Profit ~ R.D.Spend + Marketing.Spend,\n",
    "               data = dataset)\n",
    "summary(regressor)"
   ]
  },
  {
   "cell_type": "code",
   "execution_count": 49,
   "metadata": {},
   "outputs": [
    {
     "data": {
      "text/plain": [
       "\n",
       "Call:\n",
       "lm(formula = Profit ~ R.D.Spend, data = dataset)\n",
       "\n",
       "Residuals:\n",
       "   Min     1Q Median     3Q    Max \n",
       "-34351  -4626   -375   6249  17188 \n",
       "\n",
       "Coefficients:\n",
       "             Estimate Std. Error t value Pr(>|t|)    \n",
       "(Intercept) 4.903e+04  2.538e+03   19.32   <2e-16 ***\n",
       "R.D.Spend   8.543e-01  2.931e-02   29.15   <2e-16 ***\n",
       "---\n",
       "Signif. codes:  0 '***' 0.001 '**' 0.01 '*' 0.05 '.' 0.1 ' ' 1\n",
       "\n",
       "Residual standard error: 9416 on 48 degrees of freedom\n",
       "Multiple R-squared:  0.9465,\tAdjusted R-squared:  0.9454 \n",
       "F-statistic: 849.8 on 1 and 48 DF,  p-value: < 2.2e-16\n"
      ]
     },
     "metadata": {},
     "output_type": "display_data"
    }
   ],
   "source": [
    "# now we see that Marketing.SPend has a p-value greater than 0.05\n",
    "# so let's eliminate it from the model\n",
    "regressor = lm(formula = Profit ~ R.D.Spend,\n",
    "               data = dataset)\n",
    "summary(regressor)\n",
    "# this means that only R.D.Spend is a significant iv when predicting Profit"
   ]
  },
  {
   "cell_type": "markdown",
   "metadata": {},
   "source": [
    "## Polynomial Regression\n",
    "#### y = b0 + b1\\*x1 + b2\\*x1^2 + ... + bN\\*xN^2\n",
    "**Sometimes the relationship is not linear, but may be polynomial**\n"
   ]
  },
  {
   "cell_type": "code",
   "execution_count": 66,
   "metadata": {},
   "outputs": [
    {
     "data": {},
     "metadata": {},
     "output_type": "display_data"
    },
    {
     "data": {
      "image/png": "[encoded data removed]",
      "text/plain": [
       "plot without title"
      ]
     },
     "metadata": {},
     "output_type": "display_data"
    }
   ],
   "source": [
    "# here's an example of two curves ... one is linear, the other is polynomial\n",
    "data1 <- data.frame(Type = rep(\"Linear\",5), x = 1:5, y = 1:5 )\n",
    "data2 <- data.frame(Type = rep(\"Poly\", 5),  x = 1:5, y =(1:5)^2)\n",
    "data <- rbind(data1, data2)\n",
    "#ggplot(data) +\n",
    "#  geom_line(aes(y = Linear)) + \n",
    "#  geom_line(aes(y = Poly))\n",
    "ggplot(data, aes(x=x, y=y, colour=Type)) + geom_line()\n",
    "\n",
    "# if you used linear regression to predict y for polynomial data, you'd be way off"
   ]
  },
  {
   "cell_type": "code",
   "execution_count": 116,
   "metadata": {},
   "outputs": [
    {
     "data": {
      "text/html": [
       "<table>\n",
       "<thead><tr><th scope=col>Position</th><th scope=col>Level</th><th scope=col>Salary</th></tr></thead>\n",
       "<tbody>\n",
       "\t<tr><td>Business Analyst </td><td> 1               </td><td>  45000          </td></tr>\n",
       "\t<tr><td>Junior Consultant</td><td> 2               </td><td>  50000          </td></tr>\n",
       "\t<tr><td>Senior Consultant</td><td> 3               </td><td>  60000          </td></tr>\n",
       "\t<tr><td>Manager          </td><td> 4               </td><td>  80000          </td></tr>\n",
       "\t<tr><td>Country Manager  </td><td> 5               </td><td> 110000          </td></tr>\n",
       "\t<tr><td>Region Manager   </td><td> 6               </td><td> 150000          </td></tr>\n",
       "\t<tr><td>Partner          </td><td> 7               </td><td> 200000          </td></tr>\n",
       "\t<tr><td>Senior Partner   </td><td> 8               </td><td> 300000          </td></tr>\n",
       "\t<tr><td>C-level          </td><td> 9               </td><td> 500000          </td></tr>\n",
       "\t<tr><td>CEO              </td><td>10               </td><td>1000000          </td></tr>\n",
       "</tbody>\n",
       "</table>\n"
      ],
      "text/latex": [
       "\\begin{tabular}{r|lll}\n",
       " Position & Level & Salary\\\\\n",
       "\\hline\n",
       "\t Business Analyst  &  1                &   45000          \\\\\n",
       "\t Junior Consultant &  2                &   50000          \\\\\n",
       "\t Senior Consultant &  3                &   60000          \\\\\n",
       "\t Manager           &  4                &   80000          \\\\\n",
       "\t Country Manager   &  5                &  110000          \\\\\n",
       "\t Region Manager    &  6                &  150000          \\\\\n",
       "\t Partner           &  7                &  200000          \\\\\n",
       "\t Senior Partner    &  8                &  300000          \\\\\n",
       "\t C-level           &  9                &  500000          \\\\\n",
       "\t CEO               & 10                & 1000000          \\\\\n",
       "\\end{tabular}\n"
      ],
      "text/markdown": [
       "\n",
       "Position | Level | Salary | \n",
       "|---|---|---|---|---|---|---|---|---|---|\n",
       "| Business Analyst  |  1                |   45000           | \n",
       "| Junior Consultant |  2                |   50000           | \n",
       "| Senior Consultant |  3                |   60000           | \n",
       "| Manager           |  4                |   80000           | \n",
       "| Country Manager   |  5                |  110000           | \n",
       "| Region Manager    |  6                |  150000           | \n",
       "| Partner           |  7                |  200000           | \n",
       "| Senior Partner    |  8                |  300000           | \n",
       "| C-level           |  9                |  500000           | \n",
       "| CEO               | 10                | 1000000           | \n",
       "\n",
       "\n"
      ],
      "text/plain": [
       "   Position          Level Salary \n",
       "1  Business Analyst   1      45000\n",
       "2  Junior Consultant  2      50000\n",
       "3  Senior Consultant  3      60000\n",
       "4  Manager            4      80000\n",
       "5  Country Manager    5     110000\n",
       "6  Region Manager     6     150000\n",
       "7  Partner            7     200000\n",
       "8  Senior Partner     8     300000\n",
       "9  C-level            9     500000\n",
       "10 CEO               10    1000000"
      ]
     },
     "metadata": {},
     "output_type": "display_data"
    }
   ],
   "source": [
    "# Importing the dataset\n",
    "dataset = read.csv('Position_Salaries.csv')\n",
    "# Let's assume Position corresponds to Level .... \n",
    "# meaning Business Analyst is lowest position (1) and CEO is highest (10)\n",
    "dataset"
   ]
  },
  {
   "cell_type": "code",
   "execution_count": 117,
   "metadata": {},
   "outputs": [
    {
     "data": {
      "text/html": [
       "<table>\n",
       "<thead><tr><th scope=col>Level</th><th scope=col>Salary</th></tr></thead>\n",
       "<tbody>\n",
       "\t<tr><td>1     </td><td> 45000</td></tr>\n",
       "\t<tr><td>2     </td><td> 50000</td></tr>\n",
       "\t<tr><td>3     </td><td> 60000</td></tr>\n",
       "\t<tr><td>4     </td><td> 80000</td></tr>\n",
       "\t<tr><td>5     </td><td>110000</td></tr>\n",
       "\t<tr><td>6     </td><td>150000</td></tr>\n",
       "</tbody>\n",
       "</table>\n"
      ],
      "text/latex": [
       "\\begin{tabular}{r|ll}\n",
       " Level & Salary\\\\\n",
       "\\hline\n",
       "\t 1      &  45000\\\\\n",
       "\t 2      &  50000\\\\\n",
       "\t 3      &  60000\\\\\n",
       "\t 4      &  80000\\\\\n",
       "\t 5      & 110000\\\\\n",
       "\t 6      & 150000\\\\\n",
       "\\end{tabular}\n"
      ],
      "text/markdown": [
       "\n",
       "Level | Salary | \n",
       "|---|---|---|---|---|---|\n",
       "| 1      |  45000 | \n",
       "| 2      |  50000 | \n",
       "| 3      |  60000 | \n",
       "| 4      |  80000 | \n",
       "| 5      | 110000 | \n",
       "| 6      | 150000 | \n",
       "\n",
       "\n"
      ],
      "text/plain": [
       "  Level Salary\n",
       "1 1      45000\n",
       "2 2      50000\n",
       "3 3      60000\n",
       "4 4      80000\n",
       "5 5     110000\n",
       "6 6     150000"
      ]
     },
     "metadata": {},
     "output_type": "display_data"
    }
   ],
   "source": [
    "# so now we don't need the first column because the second column will do the trick in this case\n",
    "dataset = dataset[2:3] \n",
    "head(dataset)"
   ]
  },
  {
   "cell_type": "code",
   "execution_count": 118,
   "metadata": {},
   "outputs": [],
   "source": [
    "# Let's build a Linear Regression model so we can compare results later to polynomial model\n",
    "# Fitting Linear Regression to the dataset\n",
    "lin_reg = lm(formula = Salary ~ ., data = dataset)\n",
    "# lin_reg"
   ]
  },
  {
   "cell_type": "code",
   "execution_count": 119,
   "metadata": {},
   "outputs": [
    {
     "data": {},
     "metadata": {},
     "output_type": "display_data"
    },
    {
     "data": {
      "image/png": "[encoded data removed]",
      "text/plain": [
       "plot without title"
      ]
     },
     "metadata": {},
     "output_type": "display_data"
    }
   ],
   "source": [
    "# Visualising the Linear Regression results\n",
    "\n",
    "ggplot() +\n",
    "  geom_point(aes(x = dataset$Level, y = dataset$Salary),\n",
    "             colour = 'red') +\n",
    "  geom_line(aes(x = dataset$Level, y = predict(lin_reg, newdata = dataset)),\n",
    "            colour = 'blue') +\n",
    "  ggtitle('Linear Regression') +\n",
    "  xlab('Level') +\n",
    "  ylab('Salary')\n",
    "\n",
    "# you can see some of the Salaries are way off the predicted line"
   ]
  },
  {
   "cell_type": "code",
   "execution_count": 120,
   "metadata": {},
   "outputs": [
    {
     "data": {
      "text/html": [
       "<table>\n",
       "<thead><tr><th scope=col>Level</th><th scope=col>Salary</th><th scope=col>Level2</th><th scope=col>Level3</th><th scope=col>Level4</th></tr></thead>\n",
       "<tbody>\n",
       "\t<tr><td>1     </td><td> 45000</td><td> 1    </td><td>  1   </td><td>   1  </td></tr>\n",
       "\t<tr><td>2     </td><td> 50000</td><td> 4    </td><td>  8   </td><td>  16  </td></tr>\n",
       "\t<tr><td>3     </td><td> 60000</td><td> 9    </td><td> 27   </td><td>  81  </td></tr>\n",
       "\t<tr><td>4     </td><td> 80000</td><td>16    </td><td> 64   </td><td> 256  </td></tr>\n",
       "\t<tr><td>5     </td><td>110000</td><td>25    </td><td>125   </td><td> 625  </td></tr>\n",
       "\t<tr><td>6     </td><td>150000</td><td>36    </td><td>216   </td><td>1296  </td></tr>\n",
       "</tbody>\n",
       "</table>\n"
      ],
      "text/latex": [
       "\\begin{tabular}{r|lllll}\n",
       " Level & Salary & Level2 & Level3 & Level4\\\\\n",
       "\\hline\n",
       "\t 1      &  45000 &  1     &   1    &    1  \\\\\n",
       "\t 2      &  50000 &  4     &   8    &   16  \\\\\n",
       "\t 3      &  60000 &  9     &  27    &   81  \\\\\n",
       "\t 4      &  80000 & 16     &  64    &  256  \\\\\n",
       "\t 5      & 110000 & 25     & 125    &  625  \\\\\n",
       "\t 6      & 150000 & 36     & 216    & 1296  \\\\\n",
       "\\end{tabular}\n"
      ],
      "text/markdown": [
       "\n",
       "Level | Salary | Level2 | Level3 | Level4 | \n",
       "|---|---|---|---|---|---|\n",
       "| 1      |  45000 |  1     |   1    |    1   | \n",
       "| 2      |  50000 |  4     |   8    |   16   | \n",
       "| 3      |  60000 |  9     |  27    |   81   | \n",
       "| 4      |  80000 | 16     |  64    |  256   | \n",
       "| 5      | 110000 | 25     | 125    |  625   | \n",
       "| 6      | 150000 | 36     | 216    | 1296   | \n",
       "\n",
       "\n"
      ],
      "text/plain": [
       "  Level Salary Level2 Level3 Level4\n",
       "1 1      45000  1       1       1  \n",
       "2 2      50000  4       8      16  \n",
       "3 3      60000  9      27      81  \n",
       "4 4      80000 16      64     256  \n",
       "5 5     110000 25     125     625  \n",
       "6 6     150000 36     216    1296  "
      ]
     },
     "metadata": {},
     "output_type": "display_data"
    }
   ],
   "source": [
    "# now let's build a polynomial regression model\n",
    "# Fitting Polynomial Regression to the dataset\n",
    "# first we need to create \"dummy\" variables that will contain the polynomial terms of Level\n",
    "dataset$Level2 = dataset$Level^2\n",
    "dataset$Level3 = dataset$Level^3\n",
    "dataset$Level4 = dataset$Level^4\n",
    "head(dataset)\n",
    "poly_reg = lm(formula = Salary ~ .,\n",
    "              data = dataset)\n"
   ]
  },
  {
   "cell_type": "code",
   "execution_count": 121,
   "metadata": {},
   "outputs": [
    {
     "data": {},
     "metadata": {},
     "output_type": "display_data"
    },
    {
     "data": {
      "image/png": "[encoded data removed]",
      "text/plain": [
       "plot without title"
      ]
     },
     "metadata": {},
     "output_type": "display_data"
    }
   ],
   "source": [
    "# Visualising the Polynomial Regression results\n",
    "ggplot() +\n",
    "  geom_point(aes(x = dataset$Level, y = dataset$Salary),\n",
    "             colour = 'red') +\n",
    "  geom_line(aes(x = dataset$Level, y = predict(poly_reg, newdata = dataset)),\n",
    "            colour = 'blue') +\n",
    "  ggtitle('Polynomial Regression') +\n",
    "  xlab('Level') +\n",
    "  ylab('Salary')\n",
    "\n",
    "# much better ... now the predicatd line is very close to the actual salaries"
   ]
  },
  {
   "cell_type": "code",
   "execution_count": 122,
   "metadata": {},
   "outputs": [
    {
     "data": {},
     "metadata": {},
     "output_type": "display_data"
    },
    {
     "data": {
      "image/png": "[encoded data removed]",
      "text/plain": [
       "plot without title"
      ]
     },
     "metadata": {},
     "output_type": "display_data"
    }
   ],
   "source": [
    "# Visualising the Regression Model results (for higher resolution and smoother curve)\n",
    "x_grid = seq(min(dataset$Level), max(dataset$Level), 0.1)\n",
    "ggplot() +\n",
    "  geom_point(aes(x = dataset$Level, y = dataset$Salary),\n",
    "             colour = 'red') +\n",
    "  geom_line(aes(x = x_grid, y = predict(poly_reg,\n",
    "                                        newdata = data.frame(Level = x_grid,\n",
    "                                                             Level2 = x_grid^2,\n",
    "                                                             Level3 = x_grid^3,\n",
    "                                                             Level4 = x_grid^4))),\n",
    "            colour = 'blue') +\n",
    "  ggtitle('Polynomial Regression') +\n",
    "  xlab('Level') +\n",
    "  ylab('Salary')"
   ]
  },
  {
   "cell_type": "code",
   "execution_count": 105,
   "metadata": {},
   "outputs": [
    {
     "name": "stdout",
     "output_type": "stream",
     "text": [
      "[1] \"Predications with Linear Regression\"\n"
     ]
    },
    {
     "data": {
      "text/html": [
       "<dl class=dl-horizontal>\n",
       "\t<dt>1</dt>\n",
       "\t\t<dd>330379</dd>\n",
       "\t<dt>2</dt>\n",
       "\t\t<dd>573015</dd>\n",
       "</dl>\n"
      ],
      "text/latex": [
       "\\begin{description*}\n",
       "\\item[1] 330379\n",
       "\\item[2] 573015\n",
       "\\end{description*}\n"
      ],
      "text/markdown": [
       "1\n",
       ":   3303792\n",
       ":   573015\n",
       "\n"
      ],
      "text/plain": [
       "     1      2 \n",
       "330379 573015 "
      ]
     },
     "metadata": {},
     "output_type": "display_data"
    },
    {
     "name": "stdout",
     "output_type": "stream",
     "text": [
      "[1] \"Predications with Polynomial Regression\"\n"
     ]
    },
    {
     "data": {
      "text/html": [
       "<dl class=dl-horizontal>\n",
       "\t<dt>1</dt>\n",
       "\t\t<dd>158862</dd>\n",
       "\t<dt>2</dt>\n",
       "\t\t<dd>5417000</dd>\n",
       "</dl>\n"
      ],
      "text/latex": [
       "\\begin{description*}\n",
       "\\item[1] 158862\n",
       "\\item[2] 5417000\n",
       "\\end{description*}\n"
      ],
      "text/markdown": [
       "1\n",
       ":   1588622\n",
       ":   5417000\n",
       "\n"
      ],
      "text/plain": [
       "      1       2 \n",
       " 158862 5417000 "
      ]
     },
     "metadata": {},
     "output_type": "display_data"
    }
   ],
   "source": [
    "# Now let's see how good are model is linear vs. polynomial regresssion\n",
    "\n",
    "# What is the salary for someone with a Level of 6.5 (half-way between Regional Manager and Partner)\n",
    "# What is the salary for someone with a Level of 9.5 (close to becoming a CEO)\n",
    "\n",
    "# Predicting a new result with Linear Regression\n",
    "print (\"Predications with Linear Regression\")\n",
    "pred_lin = predict(lin_reg, data.frame(Level = c(6.5, 9.5)))\n",
    "round(pred_lin)\n",
    "\n",
    "# Predicting a new result with Polynomial Regression\n",
    "print (\"Predications with Polynomial Regression\")\n",
    "pred_poly = predict(poly_reg, data.frame(Level = c(6.5, 9.5),\n",
    "                             Level2 = c(6.5^2, 9.5^2),\n",
    "                             Level3 = c(6.5^3, 9.5^2),\n",
    "                             Level4 = c(6.5^4, 9.5^2)))\n",
    "round(pred_poly)\n",
    "# with linear regression you'd underpay, very significantly for a C-Level executive!"
   ]
  },
  {
   "cell_type": "markdown",
   "metadata": {},
   "source": [
    "## Support Vector Regression\n"
   ]
  },
  {
   "cell_type": "code",
   "execution_count": 123,
   "metadata": {
    "collapsed": true
   },
   "outputs": [],
   "source": [
    "# Importing the dataset\n",
    "dataset = read.csv('Position_Salaries.csv')"
   ]
  },
  {
   "cell_type": "code",
   "execution_count": 124,
   "metadata": {},
   "outputs": [
    {
     "data": {
      "text/html": [
       "<table>\n",
       "<thead><tr><th scope=col>Level</th><th scope=col>Salary</th></tr></thead>\n",
       "<tbody>\n",
       "\t<tr><td>1     </td><td> 45000</td></tr>\n",
       "\t<tr><td>2     </td><td> 50000</td></tr>\n",
       "\t<tr><td>3     </td><td> 60000</td></tr>\n",
       "\t<tr><td>4     </td><td> 80000</td></tr>\n",
       "\t<tr><td>5     </td><td>110000</td></tr>\n",
       "\t<tr><td>6     </td><td>150000</td></tr>\n",
       "</tbody>\n",
       "</table>\n"
      ],
      "text/latex": [
       "\\begin{tabular}{r|ll}\n",
       " Level & Salary\\\\\n",
       "\\hline\n",
       "\t 1      &  45000\\\\\n",
       "\t 2      &  50000\\\\\n",
       "\t 3      &  60000\\\\\n",
       "\t 4      &  80000\\\\\n",
       "\t 5      & 110000\\\\\n",
       "\t 6      & 150000\\\\\n",
       "\\end{tabular}\n"
      ],
      "text/markdown": [
       "\n",
       "Level | Salary | \n",
       "|---|---|---|---|---|---|\n",
       "| 1      |  45000 | \n",
       "| 2      |  50000 | \n",
       "| 3      |  60000 | \n",
       "| 4      |  80000 | \n",
       "| 5      | 110000 | \n",
       "| 6      | 150000 | \n",
       "\n",
       "\n"
      ],
      "text/plain": [
       "  Level Salary\n",
       "1 1      45000\n",
       "2 2      50000\n",
       "3 3      60000\n",
       "4 4      80000\n",
       "5 5     110000\n",
       "6 6     150000"
      ]
     },
     "metadata": {},
     "output_type": "display_data"
    }
   ],
   "source": [
    "# so now we don't need the first column because the second column will do the trick in this case\n",
    "dataset = dataset[2:3] \n",
    "head(dataset)"
   ]
  },
  {
   "cell_type": "code",
   "execution_count": 138,
   "metadata": {
    "collapsed": true
   },
   "outputs": [],
   "source": [
    "# Fitting SVR to the dataset\n",
    "regressor = svm(formula = Salary ~ .,\n",
    "                data = dataset,\n",
    "                type = 'eps-regression',\n",
    "                kernel = 'radial')"
   ]
  },
  {
   "cell_type": "code",
   "execution_count": 140,
   "metadata": {},
   "outputs": [
    {
     "data": {
      "text/html": [
       "'predicted salary for level 6.5 is 177861'"
      ],
      "text/latex": [
       "'predicted salary for level 6.5 is 177861'"
      ],
      "text/markdown": [
       "'predicted salary for level 6.5 is 177861'"
      ],
      "text/plain": [
       "[1] \"predicted salary for level 6.5 is 177861\""
      ]
     },
     "metadata": {},
     "output_type": "display_data"
    }
   ],
   "source": [
    "# Predicting a new result\n",
    "y_pred = predict(regressor, data.frame(Level = 6.5))\n",
    "paste('predicted salary for level 6.5 is ', round(y_pred), sep=\"\")"
   ]
  },
  {
   "cell_type": "code",
   "execution_count": 127,
   "metadata": {},
   "outputs": [
    {
     "data": {},
     "metadata": {},
     "output_type": "display_data"
    },
    {
     "data": {
      "image/png": "[encoded data removed]",
      "text/plain": [
       "plot without title"
      ]
     },
     "metadata": {},
     "output_type": "display_data"
    }
   ],
   "source": [
    "# Visualising the SVR results (for higher resolution and smoother curve)\n",
    "x_grid = seq(min(dataset$Level), max(dataset$Level), 0.1)\n",
    "ggplot() +\n",
    "  geom_point(aes(x = dataset$Level, y = dataset$Salary),\n",
    "             colour = 'red') +\n",
    "  geom_line(aes(x = x_grid, y = predict(regressor, newdata = data.frame(Level = x_grid))),\n",
    "            colour = 'blue') +\n",
    "  ggtitle('SVR') +\n",
    "  xlab('Level') +\n",
    "  ylab('Salary')\n",
    "\n",
    "# Notice the CEO salary is not in the predicted line ... that's because SVR considered it an outlier\n",
    "# use additional parameters (for example change type) to see different behavior"
   ]
  },
  {
   "cell_type": "markdown",
   "metadata": {},
   "source": [
    "## Decision Tree Regression\n"
   ]
  },
  {
   "cell_type": "code",
   "execution_count": 128,
   "metadata": {
    "collapsed": true
   },
   "outputs": [],
   "source": [
    "# Importing the dataset\n",
    "dataset = read.csv('Position_Salaries.csv')\n",
    "dataset = dataset[2:3]"
   ]
  },
  {
   "cell_type": "code",
   "execution_count": 145,
   "metadata": {
    "collapsed": true
   },
   "outputs": [],
   "source": [
    "# Fitting Decision Tree Regression to the dataset\n",
    "regressor = rpart(formula = Salary ~ .,\n",
    "                  data = dataset,\n",
    "                  control = rpart.control(minsplit = 1)\n",
    "                  )"
   ]
  },
  {
   "cell_type": "code",
   "execution_count": 136,
   "metadata": {},
   "outputs": [
    {
     "data": {
      "text/html": [
       "'predicted salary for level 6.5 is 250000'"
      ],
      "text/latex": [
       "'predicted salary for level 6.5 is 250000'"
      ],
      "text/markdown": [
       "'predicted salary for level 6.5 is 250000'"
      ],
      "text/plain": [
       "[1] \"predicted salary for level 6.5 is 250000\""
      ]
     },
     "metadata": {},
     "output_type": "display_data"
    }
   ],
   "source": [
    "# Predicting a new result with Decision Tree Regression\n",
    "y_pred = predict(regressor, data.frame(Level = 6.5))\n",
    "paste('predicted salary for level 6.5 is ', y_pred, sep=\"\")"
   ]
  },
  {
   "cell_type": "code",
   "execution_count": 141,
   "metadata": {},
   "outputs": [
    {
     "data": {},
     "metadata": {},
     "output_type": "display_data"
    },
    {
     "data": {
      "image/png": "[encoded data removed]",
      "text/plain": [
       "plot without title"
      ]
     },
     "metadata": {},
     "output_type": "display_data"
    }
   ],
   "source": [
    "x_grid = seq(min(dataset$Level), max(dataset$Level), 0.01)\n",
    "ggplot() +\n",
    "  geom_point(aes(x = dataset$Level, y = dataset$Salary),\n",
    "             colour = 'red') +\n",
    "  geom_line(aes(x = x_grid, y = predict(regressor, newdata = data.frame(Level = x_grid))),\n",
    "            colour = 'blue') +\n",
    "  ggtitle('Decision Tree Regression') +\n",
    "  xlab('Level') +\n",
    "  ylab('Salary')\n",
    "\n",
    "# because of the way DTR works, each y value in a cluster will have the same value (average value of all points)\n",
    "# that's why you see constant values in each cluster\n",
    "# in this case 250000 seems too high, but if had more data the value would have been closer"
   ]
  },
  {
   "cell_type": "code",
   "execution_count": 149,
   "metadata": {},
   "outputs": [
    {
     "data": {
      "image/png": "[encoded data removed]",
      "text/plain": [
       "plot without title"
      ]
     },
     "metadata": {},
     "output_type": "display_data"
    }
   ],
   "source": [
    "# Plotting the tree\n",
    "# you can see where the splits occur (the decisions)\n",
    "plot(regressor)\n",
    "text(regressor)"
   ]
  },
  {
   "cell_type": "markdown",
   "metadata": {},
   "source": [
    "## Random Forest Regression\n"
   ]
  },
  {
   "cell_type": "code",
   "execution_count": 150,
   "metadata": {
    "collapsed": true
   },
   "outputs": [],
   "source": [
    "# Importing the dataset\n",
    "dataset = read.csv('Position_Salaries.csv')\n",
    "dataset = dataset[2:3]"
   ]
  },
  {
   "cell_type": "code",
   "execution_count": 166,
   "metadata": {
    "collapsed": true
   },
   "outputs": [],
   "source": [
    "set.seed(1234)\n",
    "# note the value of ntree ... \n",
    "regressor = randomForest(x = dataset[-2],\n",
    "                         y = dataset$Salary,\n",
    "                         ntree = 10)"
   ]
  },
  {
   "cell_type": "code",
   "execution_count": 167,
   "metadata": {},
   "outputs": [
    {
     "data": {},
     "metadata": {},
     "output_type": "display_data"
    },
    {
     "data": {
      "image/png": "[encoded data removed]",
      "text/plain": [
       "plot without title"
      ]
     },
     "metadata": {},
     "output_type": "display_data"
    }
   ],
   "source": [
    "x_grid = seq(min(dataset$Level), max(dataset$Level), 0.01)\n",
    "ggplot() +\n",
    "  geom_point(aes(x = dataset$Level, y = dataset$Salary),\n",
    "             colour = 'red') +\n",
    "  geom_line(aes(x = x_grid, y = predict(regressor, newdata = data.frame(Level = x_grid))),\n",
    "            colour = 'blue') +\n",
    "  ggtitle('Random Forest Regression') +\n",
    "  xlab('Level') +\n",
    "  ylab('Salary')"
   ]
  },
  {
   "cell_type": "code",
   "execution_count": 158,
   "metadata": {},
   "outputs": [
    {
     "data": {
      "text/html": [
       "'predicted salary using RFR with ntree of 10 for level 6.5 is 141733'"
      ],
      "text/latex": [
       "'predicted salary using RFR with ntree of 10 for level 6.5 is 141733'"
      ],
      "text/markdown": [
       "'predicted salary using RFR with ntree of 10 for level 6.5 is 141733'"
      ],
      "text/plain": [
       "[1] \"predicted salary using RFR with ntree of 10 for level 6.5 is 141733\""
      ]
     },
     "metadata": {},
     "output_type": "display_data"
    }
   ],
   "source": [
    "# Predicting a new result with Random Forest Regression\n",
    "y_pred = predict(regressor, data.frame(Level = 6.5))\n",
    "paste('predicted salary using RFR with ntree of 10 for level 6.5 is ', round(y_pred), sep=\"\")"
   ]
  },
  {
   "cell_type": "code",
   "execution_count": 168,
   "metadata": {
    "collapsed": true
   },
   "outputs": [],
   "source": [
    "set.seed(1234)\n",
    "# note the value of ntree ... \n",
    "regressor = randomForest(x = dataset[-2],\n",
    "                         y = dataset$Salary,\n",
    "                         ntree = 500)"
   ]
  },
  {
   "cell_type": "code",
   "execution_count": 163,
   "metadata": {},
   "outputs": [
    {
     "data": {
      "text/html": [
       "'predicted salary using RFR with ntree of 500 for level 6.5 is 160458'"
      ],
      "text/latex": [
       "'predicted salary using RFR with ntree of 500 for level 6.5 is 160458'"
      ],
      "text/markdown": [
       "'predicted salary using RFR with ntree of 500 for level 6.5 is 160458'"
      ],
      "text/plain": [
       "[1] \"predicted salary using RFR with ntree of 500 for level 6.5 is 160458\""
      ]
     },
     "metadata": {},
     "output_type": "display_data"
    }
   ],
   "source": [
    "# Predicting a new result with Random Forest Regression\n",
    "y_pred = predict(regressor, data.frame(Level = 6.5))\n",
    "paste('predicted salary using RFR with ntree of 500 for level 6.5 is ', round(y_pred), sep=\"\")\n",
    "\n",
    "# generally the higher the number of ntree the bette the prediction will be"
   ]
  },
  {
   "cell_type": "code",
   "execution_count": 170,
   "metadata": {},
   "outputs": [
    {
     "data": {},
     "metadata": {},
     "output_type": "display_data"
    },
    {
     "data": {
      "image/png": "[encoded data removed]",
      "text/plain": [
       "plot without title"
      ]
     },
     "metadata": {},
     "output_type": "display_data"
    }
   ],
   "source": [
    "x_grid = seq(min(dataset$Level), max(dataset$Level), 0.01)\n",
    "ggplot() +\n",
    "  geom_point(aes(x = dataset$Level, y = dataset$Salary),\n",
    "             colour = 'red') +\n",
    "  geom_line(aes(x = x_grid, y = predict(regressor, newdata = data.frame(Level = x_grid))),\n",
    "            colour = 'blue') +\n",
    "  ggtitle('Random Forest Regression') +\n",
    "  xlab('Level') +\n",
    "  ylab('Salary')\n",
    "\n",
    "# with ntree of 500 the salaries are much more closer "
   ]
  }
 ],
 "metadata": {
  "kernelspec": {
   "display_name": "R",
   "language": "R",
   "name": "ir"
  },
  "language_info": {
   "codemirror_mode": "r",
   "file_extension": ".r",
   "mimetype": "text/x-r-source",
   "name": "R",
   "pygments_lexer": "r",
   "version": "3.3.3"
  }
 },
 "nbformat": 4,
 "nbformat_minor": 2
}
